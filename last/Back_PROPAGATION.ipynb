{
 "cells": [
  {
   "cell_type": "code",
   "execution_count": null,
   "metadata": {},
   "outputs": [],
   "source": []
  },
  {
   "cell_type": "code",
   "execution_count": 5,
   "metadata": {},
   "outputs": [],
   "source": [
    "import numpy as np\n",
    "from pandas import DataFrame\n",
    "from pandas import read_csv\n",
    "from sklearn.preprocessing import StandardScaler, normalize\n",
    "from sklearn.model_selection import train_test_split\n",
    "\n",
    "in_values=np.array([       [0.06363387],\n",
    "                           [0.89550772],\n",
    "                           [0.34073466],\n",
    "                           [0.85228237],\n",
    "                           [0.96019488],\n",
    "                           [0.17392543],\n",
    "                           [0.81905631],\n",
    "                           [0.31956641],\n",
    "                           [0.68456833],\n",
    "                           [0.12627422],\n",
    "                           [0.82057309],\n",
    "                           [0.2857397 ],\n",
    "                           [0.88310743],\n",
    "                           [0.57810579],\n",
    "                           [0.73521407],\n",
    "                           [0.70037147],\n",
    "                           [0.51923605],\n",
    "                           [0.58018963],\n",
    "                           [0.3364865 ],\n",
    "                           [0.83543872]     ])\n",
    "\n",
    "out_values=np.multiply(in_values,888)+500"
   ]
  },
  {
   "cell_type": "code",
   "execution_count": 6,
   "metadata": {},
   "outputs": [],
   "source": [
    "\n",
    "\n",
    "\n",
    "\n",
    "class Back__Propagation:\n",
    "    def __init__(self,IN=in_values,OUT=out_values, weight=0.01 , bias=0.001, typing=10000, learning_rate=0.0001,stop_moment = 1):\n",
    "        self.IN=IN\n",
    "        self.weight=weight\n",
    "        self.bias=bias\n",
    "        self.OUT=OUT\n",
    "        self.predict=self.prediction()\n",
    "        self.typing = typing\n",
    "        self.learning_rate=learning_rate\n",
    "        self.stop_moment=stop_moment\n",
    "    \n",
    "    def errors(self):\n",
    "        return np.sum(((self.predict-self.OUT)**2)/len(self.OUT))\n",
    "    \n",
    "    def prediction(self):\n",
    "        return self.IN*self.weight+self.bias\n",
    "    \n",
    "    def update(self):\n",
    "        \n",
    "        weight_derivative = -(2) * np.sum((self.IN * (self.OUT-self.predict))/len(self.IN))\n",
    "        bias_derivative = -(2) * np.sum((self.OUT-self.predict)/len(self.IN))\n",
    "        self.weight = self.weight - (self.learning_rate * weight_derivative)\n",
    "        self.bias = self.bias - (self.learning_rate * bias_derivative)\n",
    "        \n",
    "    def fuck_you(self):\n",
    "        print('-')\n",
    "        print('-')\n",
    "        print('___________ПОШЕЛ НА ХУЙ !!!___________Со_своим_футболом!!!!!!!!!!!!!' )\n",
    "        \n",
    "    def message(self):\n",
    "\n",
    "        print(self.errors())\n",
    "        print('YOUR_ERRORS')             \n",
    "        print('*****************WEIGHT=',self.weight)\n",
    "        print('*****************BIAS  =',self.bias)\n",
    "\n",
    "    def skiline_fit(self):\n",
    "        key=True\n",
    "        while key:\n",
    "            if  self.errors()>self.stop_moment:\n",
    "                that_error=self.errors()\n",
    "                self.update()\n",
    "                self.predict=self.prediction()\n",
    "                this_error=self.errors()\n",
    "                key=[True if this_error<that_error else False]\n",
    "                if key:\n",
    "                    self.message()\n",
    "                    print('&&&&&&&--------Scanning-------KEY is $$$___', key ) \n",
    "            else:\n",
    "                [self.fuck_you() for _typing_ in range(self.typing)]\n",
    "                break\n",
    "                \n",
    "                \n",
    "    def ski_fit(self):\n",
    "        key=True\n",
    "        while key:\n",
    "            if  self.errors()>self.stop_moment:\n",
    "                that_error=self.errors()\n",
    "                self.update()\n",
    "                self.predict=self.prediction()\n",
    "                this_error=self.errors()\n",
    "                key=[True if this_error<that_error else False]\n",
    "            else:\n",
    "                break\n",
    "        print('TRUE !!!',\n",
    "             )\n",
    "    "
   ]
  },
  {
   "cell_type": "code",
   "execution_count": 7,
   "metadata": {},
   "outputs": [],
   "source": [
    "root=Back__Propagation()"
   ]
  },
  {
   "cell_type": "code",
   "execution_count": 8,
   "metadata": {},
   "outputs": [
    {
     "name": "stdout",
     "output_type": "stream",
     "text": [
      "TRUE !!!\n"
     ]
    }
   ],
   "source": [
    "root.ski_fit()"
   ]
  },
  {
   "cell_type": "code",
   "execution_count": 9,
   "metadata": {},
   "outputs": [
    {
     "data": {
      "text/plain": [
       "array([[ 556.50687656],\n",
       "       [1295.21085536],\n",
       "       [ 802.57237808],\n",
       "       [1256.82674456],\n",
       "       [1352.65305344],\n",
       "       [ 654.44578184],\n",
       "       [1227.32200328],\n",
       "       [ 783.77497208],\n",
       "       [1107.89667704],\n",
       "       [ 612.13150736],\n",
       "       [1228.66890392],\n",
       "       [ 753.7368536 ],\n",
       "       [1284.19939784],\n",
       "       [1013.35794152],\n",
       "       [1152.87009416],\n",
       "       [1121.92986536],\n",
       "       [ 961.0816124 ],\n",
       "       [1015.20839144],\n",
       "       [ 798.800012  ],\n",
       "       [1241.86958336]])"
      ]
     },
     "execution_count": 9,
     "metadata": {},
     "output_type": "execute_result"
    }
   ],
   "source": [
    "root.OUT"
   ]
  },
  {
   "cell_type": "code",
   "execution_count": 11,
   "metadata": {},
   "outputs": [
    {
     "data": {
      "text/plain": [
       "array([[ 558.4551398 ],\n",
       "       [1294.19581305],\n",
       "       [ 803.53355138],\n",
       "       [1255.96567983],\n",
       "       [1351.40758218],\n",
       "       [ 656.00116389],\n",
       "       [1226.5792966 ],\n",
       "       [ 784.81155104],\n",
       "       [1107.63304417],\n",
       "       [ 613.85663281],\n",
       "       [1227.92079416],\n",
       "       [ 754.89393025],\n",
       "       [1283.22852791],\n",
       "       [1013.47355009],\n",
       "       [1152.42605076],\n",
       "       [1121.60993846],\n",
       "       [ 961.40692708],\n",
       "       [1015.31657695],\n",
       "       [ 799.77631812],\n",
       "       [1241.06851917]])"
      ]
     },
     "execution_count": 11,
     "metadata": {},
     "output_type": "execute_result"
    }
   ],
   "source": [
    "root.prediction()"
   ]
  },
  {
   "cell_type": "code",
   "execution_count": null,
   "metadata": {
    "scrolled": true
   },
   "outputs": [],
   "source": [
    "root.IN"
   ]
  },
  {
   "cell_type": "code",
   "execution_count": 6,
   "metadata": {},
   "outputs": [
    {
     "data": {
      "text/plain": [
       "array([[ 558.4551398 ],\n",
       "       [1294.19581305],\n",
       "       [ 803.53355138],\n",
       "       [1255.96567983],\n",
       "       [1351.40758218],\n",
       "       [ 656.00116389],\n",
       "       [1226.5792966 ],\n",
       "       [ 784.81155104],\n",
       "       [1107.63304417],\n",
       "       [ 613.85663281],\n",
       "       [1227.92079416],\n",
       "       [ 754.89393025],\n",
       "       [1283.22852791],\n",
       "       [1013.47355009],\n",
       "       [1152.42605076],\n",
       "       [1121.60993846],\n",
       "       [ 961.40692708],\n",
       "       [1015.31657695],\n",
       "       [ 799.77631812],\n",
       "       [1241.06851917]])"
      ]
     },
     "execution_count": 6,
     "metadata": {},
     "output_type": "execute_result"
    }
   ],
   "source": [
    "root.prediction()"
   ]
  },
  {
   "cell_type": "code",
   "execution_count": 7,
   "metadata": {},
   "outputs": [
    {
     "data": {
      "text/plain": [
       "884.4377945609114"
      ]
     },
     "execution_count": 7,
     "metadata": {},
     "output_type": "execute_result"
    }
   ],
   "source": [
    "root.weight"
   ]
  },
  {
   "cell_type": "code",
   "execution_count": null,
   "metadata": {},
   "outputs": [],
   "source": []
  },
  {
   "cell_type": "code",
   "execution_count": null,
   "metadata": {},
   "outputs": [],
   "source": []
  },
  {
   "cell_type": "code",
   "execution_count": null,
   "metadata": {},
   "outputs": [],
   "source": []
  },
  {
   "cell_type": "code",
   "execution_count": null,
   "metadata": {},
   "outputs": [],
   "source": []
  },
  {
   "cell_type": "code",
   "execution_count": null,
   "metadata": {},
   "outputs": [],
   "source": []
  },
  {
   "cell_type": "code",
   "execution_count": null,
   "metadata": {},
   "outputs": [],
   "source": []
  },
  {
   "cell_type": "code",
   "execution_count": null,
   "metadata": {},
   "outputs": [],
   "source": []
  },
  {
   "cell_type": "code",
   "execution_count": null,
   "metadata": {},
   "outputs": [],
   "source": []
  },
  {
   "cell_type": "code",
   "execution_count": null,
   "metadata": {},
   "outputs": [],
   "source": []
  },
  {
   "cell_type": "code",
   "execution_count": null,
   "metadata": {},
   "outputs": [],
   "source": []
  },
  {
   "cell_type": "code",
   "execution_count": null,
   "metadata": {},
   "outputs": [],
   "source": []
  },
  {
   "cell_type": "code",
   "execution_count": null,
   "metadata": {},
   "outputs": [],
   "source": []
  }
 ],
 "metadata": {
  "kernelspec": {
   "display_name": "Python 3",
   "language": "python",
   "name": "python3"
  },
  "language_info": {
   "codemirror_mode": {
    "name": "ipython",
    "version": 3
   },
   "file_extension": ".py",
   "mimetype": "text/x-python",
   "name": "python",
   "nbconvert_exporter": "python",
   "pygments_lexer": "ipython3",
   "version": "3.7.6"
  }
 },
 "nbformat": 4,
 "nbformat_minor": 4
}
