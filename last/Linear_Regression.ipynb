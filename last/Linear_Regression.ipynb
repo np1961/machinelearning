{
 "cells": [
  {
   "cell_type": "code",
   "execution_count": 1,
   "id": "f7af8056",
   "metadata": {},
   "outputs": [],
   "source": [
    "from numpy import array\n",
    "from numpy import dot\n",
    "from numpy import exp as exponent\n",
    "from numpy.random import normal\n",
    "from math import factorial\n",
    "from math import log as ln_e\n",
    "from random import random as random\n",
    "from pandas import DataFrame\n",
    "from sklearn.linear_model import LinearRegression\n",
    "from sklearn.model_selection import train_test_split\n",
    "from matplotlib import pyplot\n",
    "from time import sleep\n",
    "from warnings import filterwarnings as message\n",
    "message('ignore')\n"
   ]
  },
  {
   "cell_type": "markdown",
   "id": "97062a27",
   "metadata": {},
   "source": [
    "# local function"
   ]
  },
  {
   "cell_type": "code",
   "execution_count": 2,
   "id": "eaf42da5",
   "metadata": {},
   "outputs": [],
   "source": [
    "def ReLu(element):\n",
    "    return True if element>0.5 else False\n",
    "\n",
    "def gender_switch(gend):\n",
    "    return 'Male' if gend else 'Female'\n",
    "\n",
    "def age_generator(diapazone_=19, _diapazone=61):\n",
    "        random_numbers=[random() for ranger in range(100)]\n",
    "        _return_=[diapazone_ + (_diapazone-diapazone_)* random_numbers[index] \n",
    "                 for index in range(len(random_numbers))]\n",
    "        return _return_"
   ]
  },
  {
   "cell_type": "markdown",
   "id": "c366b46b",
   "metadata": {},
   "source": [
    "# N1"
   ]
  },
  {
   "cell_type": "code",
   "execution_count": null,
   "id": "ee7eed3a",
   "metadata": {},
   "outputs": [],
   "source": []
  },
  {
   "cell_type": "code",
   "execution_count": 46,
   "id": "ac6d9ad4",
   "metadata": {},
   "outputs": [],
   "source": [
    "elements=[random() for ranger in range(100)]\n",
    "genders=[ReLu(element) for element in elements ]\n",
    "_genders_=[gender_switch(gender) for gender in genders]"
   ]
  },
  {
   "cell_type": "markdown",
   "id": "aebe2b36",
   "metadata": {},
   "source": [
    "# N2"
   ]
  },
  {
   "cell_type": "code",
   "execution_count": 5,
   "id": "a037e159",
   "metadata": {},
   "outputs": [],
   "source": [
    "ages=age_generator()\n",
    "ages=[int(age) for age in ages]"
   ]
  },
  {
   "cell_type": "markdown",
   "id": "c1c9a25e",
   "metadata": {},
   "source": [
    "# N3"
   ]
  },
  {
   "cell_type": "code",
   "execution_count": 12,
   "id": "2850c88e",
   "metadata": {},
   "outputs": [],
   "source": [
    "guops=age_generator(200, 10000)\n",
    "guops=[int(guop) for guop in guops]"
   ]
  },
  {
   "cell_type": "code",
   "execution_count": 13,
   "id": "5f71461f",
   "metadata": {},
   "outputs": [],
   "source": [
    "def _sigmoid_(element):\n",
    "    return element/100"
   ]
  },
  {
   "cell_type": "code",
   "execution_count": 14,
   "id": "3dd15dc3",
   "metadata": {},
   "outputs": [],
   "source": [
    "def sigmoid(element):\n",
    "    return exponent(element)/(exponent(element)+1)"
   ]
  },
  {
   "cell_type": "code",
   "execution_count": 48,
   "id": "4e2a6c6a",
   "metadata": {},
   "outputs": [],
   "source": [
    "def head_skiline(df):\n",
    "    df['Genders']=genders\n",
    "    for index in df.index:\n",
    "        if df['Genders'][index]:\n",
    "            df['Sold'][index]+=37\n",
    "            \n",
    "            if df['Guops'][index]>7000:\n",
    "                df['Sold'][index]+=25\n",
    "                \n",
    "                if df['Ages'][index]<35:\n",
    "                    df['Sold'][index]+=33\n",
    "                    \n",
    "                elif df['Ages'][index]>40:\n",
    "                    df['Sold'][index]+=19\n",
    "                    \n",
    "                else:\n",
    "                    df['Sold'][index]+=14\n",
    "\n",
    "            else:\n",
    "                if df['Ages'][index]<35:\n",
    "                    df['Sold'][index]+=33\n",
    "                    \n",
    "                elif df['Ages'][index]>40:\n",
    "                    df['Sold'][index]+=19\n",
    "                    \n",
    "                else:\n",
    "                    df['Sold'][index]+=14\n",
    "                    \n",
    "                    \n",
    "                    \n",
    "                    \n",
    "        else:\n",
    "            if df['Guops'][index]>7000:\n",
    "                df['Sold'][index]+=18\n",
    "                \n",
    "                if df['Ages'][index]<35:\n",
    "                    df['Sold'][index]+=23\n",
    "                    \n",
    "                elif df['Ages'][index]>40:\n",
    "                    df['Sold'][index]+=16\n",
    "                    \n",
    "                else:\n",
    "                    df['Sold'][index]+=11\n",
    "\n",
    "            else:\n",
    "                if df['Ages'][index]<35:\n",
    "                    df['Sold'][index]+=29\n",
    "                    \n",
    "                elif df['Ages'][index]>40:\n",
    "                    df['Sold'][index]+=18\n",
    "                    \n",
    "                else:\n",
    "                    df['Sold'][index]+=9\n",
    "    \n",
    "    df['Sold']=[int(100*_sigmoid_(sold))/100 for sold in df['Sold']]\n",
    "    return df"
   ]
  },
  {
   "cell_type": "code",
   "execution_count": 49,
   "id": "91fc6236",
   "metadata": {},
   "outputs": [
    {
     "data": {
      "text/html": [
       "<div>\n",
       "<style scoped>\n",
       "    .dataframe tbody tr th:only-of-type {\n",
       "        vertical-align: middle;\n",
       "    }\n",
       "\n",
       "    .dataframe tbody tr th {\n",
       "        vertical-align: top;\n",
       "    }\n",
       "\n",
       "    .dataframe thead th {\n",
       "        text-align: right;\n",
       "    }\n",
       "</style>\n",
       "<table border=\"1\" class=\"dataframe\">\n",
       "  <thead>\n",
       "    <tr style=\"text-align: right;\">\n",
       "      <th></th>\n",
       "      <th>Genders</th>\n",
       "      <th>Guops</th>\n",
       "      <th>Ages</th>\n",
       "      <th>Sold</th>\n",
       "    </tr>\n",
       "  </thead>\n",
       "  <tbody>\n",
       "    <tr>\n",
       "      <th>0</th>\n",
       "      <td>Male</td>\n",
       "      <td>7148</td>\n",
       "      <td>53</td>\n",
       "      <td>0</td>\n",
       "    </tr>\n",
       "    <tr>\n",
       "      <th>1</th>\n",
       "      <td>Female</td>\n",
       "      <td>2885</td>\n",
       "      <td>52</td>\n",
       "      <td>0</td>\n",
       "    </tr>\n",
       "    <tr>\n",
       "      <th>2</th>\n",
       "      <td>Male</td>\n",
       "      <td>5872</td>\n",
       "      <td>29</td>\n",
       "      <td>0</td>\n",
       "    </tr>\n",
       "    <tr>\n",
       "      <th>3</th>\n",
       "      <td>Male</td>\n",
       "      <td>5456</td>\n",
       "      <td>56</td>\n",
       "      <td>0</td>\n",
       "    </tr>\n",
       "    <tr>\n",
       "      <th>4</th>\n",
       "      <td>Female</td>\n",
       "      <td>7999</td>\n",
       "      <td>34</td>\n",
       "      <td>0</td>\n",
       "    </tr>\n",
       "    <tr>\n",
       "      <th>...</th>\n",
       "      <td>...</td>\n",
       "      <td>...</td>\n",
       "      <td>...</td>\n",
       "      <td>...</td>\n",
       "    </tr>\n",
       "    <tr>\n",
       "      <th>95</th>\n",
       "      <td>Female</td>\n",
       "      <td>4171</td>\n",
       "      <td>60</td>\n",
       "      <td>0</td>\n",
       "    </tr>\n",
       "    <tr>\n",
       "      <th>96</th>\n",
       "      <td>Female</td>\n",
       "      <td>9817</td>\n",
       "      <td>21</td>\n",
       "      <td>0</td>\n",
       "    </tr>\n",
       "    <tr>\n",
       "      <th>97</th>\n",
       "      <td>Female</td>\n",
       "      <td>4396</td>\n",
       "      <td>21</td>\n",
       "      <td>0</td>\n",
       "    </tr>\n",
       "    <tr>\n",
       "      <th>98</th>\n",
       "      <td>Male</td>\n",
       "      <td>1436</td>\n",
       "      <td>47</td>\n",
       "      <td>0</td>\n",
       "    </tr>\n",
       "    <tr>\n",
       "      <th>99</th>\n",
       "      <td>Female</td>\n",
       "      <td>6516</td>\n",
       "      <td>29</td>\n",
       "      <td>0</td>\n",
       "    </tr>\n",
       "  </tbody>\n",
       "</table>\n",
       "<p>100 rows × 4 columns</p>\n",
       "</div>"
      ],
      "text/plain": [
       "   Genders  Guops  Ages  Sold\n",
       "0     Male   7148    53     0\n",
       "1   Female   2885    52     0\n",
       "2     Male   5872    29     0\n",
       "3     Male   5456    56     0\n",
       "4   Female   7999    34     0\n",
       "..     ...    ...   ...   ...\n",
       "95  Female   4171    60     0\n",
       "96  Female   9817    21     0\n",
       "97  Female   4396    21     0\n",
       "98    Male   1436    47     0\n",
       "99  Female   6516    29     0\n",
       "\n",
       "[100 rows x 4 columns]"
      ]
     },
     "execution_count": 49,
     "metadata": {},
     "output_type": "execute_result"
    }
   ],
   "source": [
    "df=DataFrame(_genders_)\n",
    "df[7]=guops\n",
    "df[8]=ages\n",
    "df[9]=[0 for zero in range(len(guops))]\n",
    "df.columns=['Genders', 'Guops', 'Ages','Sold']\n",
    "df"
   ]
  },
  {
   "cell_type": "code",
   "execution_count": 50,
   "id": "841c4299",
   "metadata": {},
   "outputs": [],
   "source": [
    "_df_=head_skiline(df)"
   ]
  },
  {
   "cell_type": "code",
   "execution_count": 51,
   "id": "2926fd1e",
   "metadata": {},
   "outputs": [
    {
     "data": {
      "text/html": [
       "<div>\n",
       "<style scoped>\n",
       "    .dataframe tbody tr th:only-of-type {\n",
       "        vertical-align: middle;\n",
       "    }\n",
       "\n",
       "    .dataframe tbody tr th {\n",
       "        vertical-align: top;\n",
       "    }\n",
       "\n",
       "    .dataframe thead th {\n",
       "        text-align: right;\n",
       "    }\n",
       "</style>\n",
       "<table border=\"1\" class=\"dataframe\">\n",
       "  <thead>\n",
       "    <tr style=\"text-align: right;\">\n",
       "      <th></th>\n",
       "      <th>Genders</th>\n",
       "      <th>Guops</th>\n",
       "      <th>Ages</th>\n",
       "      <th>Sold</th>\n",
       "    </tr>\n",
       "  </thead>\n",
       "  <tbody>\n",
       "    <tr>\n",
       "      <th>0</th>\n",
       "      <td>True</td>\n",
       "      <td>7148</td>\n",
       "      <td>53</td>\n",
       "      <td>0.81</td>\n",
       "    </tr>\n",
       "    <tr>\n",
       "      <th>1</th>\n",
       "      <td>False</td>\n",
       "      <td>2885</td>\n",
       "      <td>52</td>\n",
       "      <td>0.18</td>\n",
       "    </tr>\n",
       "    <tr>\n",
       "      <th>2</th>\n",
       "      <td>True</td>\n",
       "      <td>5872</td>\n",
       "      <td>29</td>\n",
       "      <td>0.70</td>\n",
       "    </tr>\n",
       "    <tr>\n",
       "      <th>3</th>\n",
       "      <td>True</td>\n",
       "      <td>5456</td>\n",
       "      <td>56</td>\n",
       "      <td>0.56</td>\n",
       "    </tr>\n",
       "    <tr>\n",
       "      <th>4</th>\n",
       "      <td>False</td>\n",
       "      <td>7999</td>\n",
       "      <td>34</td>\n",
       "      <td>0.41</td>\n",
       "    </tr>\n",
       "    <tr>\n",
       "      <th>...</th>\n",
       "      <td>...</td>\n",
       "      <td>...</td>\n",
       "      <td>...</td>\n",
       "      <td>...</td>\n",
       "    </tr>\n",
       "    <tr>\n",
       "      <th>95</th>\n",
       "      <td>False</td>\n",
       "      <td>4171</td>\n",
       "      <td>60</td>\n",
       "      <td>0.18</td>\n",
       "    </tr>\n",
       "    <tr>\n",
       "      <th>96</th>\n",
       "      <td>False</td>\n",
       "      <td>9817</td>\n",
       "      <td>21</td>\n",
       "      <td>0.41</td>\n",
       "    </tr>\n",
       "    <tr>\n",
       "      <th>97</th>\n",
       "      <td>False</td>\n",
       "      <td>4396</td>\n",
       "      <td>21</td>\n",
       "      <td>0.28</td>\n",
       "    </tr>\n",
       "    <tr>\n",
       "      <th>98</th>\n",
       "      <td>True</td>\n",
       "      <td>1436</td>\n",
       "      <td>47</td>\n",
       "      <td>0.56</td>\n",
       "    </tr>\n",
       "    <tr>\n",
       "      <th>99</th>\n",
       "      <td>False</td>\n",
       "      <td>6516</td>\n",
       "      <td>29</td>\n",
       "      <td>0.28</td>\n",
       "    </tr>\n",
       "  </tbody>\n",
       "</table>\n",
       "<p>100 rows × 4 columns</p>\n",
       "</div>"
      ],
      "text/plain": [
       "    Genders  Guops  Ages  Sold\n",
       "0      True   7148    53  0.81\n",
       "1     False   2885    52  0.18\n",
       "2      True   5872    29  0.70\n",
       "3      True   5456    56  0.56\n",
       "4     False   7999    34  0.41\n",
       "..      ...    ...   ...   ...\n",
       "95    False   4171    60  0.18\n",
       "96    False   9817    21  0.41\n",
       "97    False   4396    21  0.28\n",
       "98     True   1436    47  0.56\n",
       "99    False   6516    29  0.28\n",
       "\n",
       "[100 rows x 4 columns]"
      ]
     },
     "execution_count": 51,
     "metadata": {},
     "output_type": "execute_result"
    }
   ],
   "source": [
    "df"
   ]
  },
  {
   "cell_type": "code",
   "execution_count": 52,
   "id": "7ffac8a3",
   "metadata": {},
   "outputs": [],
   "source": [
    "X,Y=df.drop('Sold', axis=1),df['Sold']\n",
    "x_train,x_test,y_train,y_test=train_test_split(X,Y,test_size=0.23, random_state=True)"
   ]
  },
  {
   "cell_type": "code",
   "execution_count": 53,
   "id": "d5db5288",
   "metadata": {},
   "outputs": [
    {
     "data": {
      "text/plain": [
       "LinearRegression()"
      ]
     },
     "execution_count": 53,
     "metadata": {},
     "output_type": "execute_result"
    }
   ],
   "source": [
    "model=LinearRegression()\n",
    "model.fit(x_train,y_train)"
   ]
  },
  {
   "cell_type": "code",
   "execution_count": null,
   "id": "1755d5b2",
   "metadata": {},
   "outputs": [],
   "source": []
  },
  {
   "cell_type": "code",
   "execution_count": 54,
   "id": "d9f2f128",
   "metadata": {},
   "outputs": [
    {
     "data": {
      "text/plain": [
       "array([ 4.34645306e-01,  2.65840643e-05, -3.23417932e-03])"
      ]
     },
     "execution_count": 54,
     "metadata": {},
     "output_type": "execute_result"
    }
   ],
   "source": [
    "model.coef_"
   ]
  },
  {
   "cell_type": "code",
   "execution_count": 55,
   "id": "f53c0881",
   "metadata": {},
   "outputs": [
    {
     "data": {
      "text/plain": [
       "0.22893150915286642"
      ]
     },
     "execution_count": 55,
     "metadata": {},
     "output_type": "execute_result"
    }
   ],
   "source": [
    "model.intercept_"
   ]
  },
  {
   "cell_type": "code",
   "execution_count": 56,
   "id": "59c6d11e",
   "metadata": {},
   "outputs": [],
   "source": [
    "# x_1*w_1 + x_2*w_2, x_3*w_3 + bias = y"
   ]
  },
  {
   "cell_type": "code",
   "execution_count": null,
   "id": "d72753a6",
   "metadata": {},
   "outputs": [],
   "source": []
  },
  {
   "cell_type": "code",
   "execution_count": 64,
   "id": "dab8853a",
   "metadata": {},
   "outputs": [
    {
     "data": {
      "text/html": [
       "<div>\n",
       "<style scoped>\n",
       "    .dataframe tbody tr th:only-of-type {\n",
       "        vertical-align: middle;\n",
       "    }\n",
       "\n",
       "    .dataframe tbody tr th {\n",
       "        vertical-align: top;\n",
       "    }\n",
       "\n",
       "    .dataframe thead th {\n",
       "        text-align: right;\n",
       "    }\n",
       "</style>\n",
       "<table border=\"1\" class=\"dataframe\">\n",
       "  <thead>\n",
       "    <tr style=\"text-align: right;\">\n",
       "      <th></th>\n",
       "      <th>Predict</th>\n",
       "      <th>Real</th>\n",
       "    </tr>\n",
       "  </thead>\n",
       "  <tbody>\n",
       "    <tr>\n",
       "      <th>0</th>\n",
       "      <td>0.265080</td>\n",
       "      <td>0.34</td>\n",
       "    </tr>\n",
       "    <tr>\n",
       "      <th>1</th>\n",
       "      <td>0.378119</td>\n",
       "      <td>0.41</td>\n",
       "    </tr>\n",
       "    <tr>\n",
       "      <th>2</th>\n",
       "      <td>0.510474</td>\n",
       "      <td>0.56</td>\n",
       "    </tr>\n",
       "    <tr>\n",
       "      <th>3</th>\n",
       "      <td>0.808571</td>\n",
       "      <td>0.95</td>\n",
       "    </tr>\n",
       "    <tr>\n",
       "      <th>4</th>\n",
       "      <td>0.538217</td>\n",
       "      <td>0.56</td>\n",
       "    </tr>\n",
       "    <tr>\n",
       "      <th>5</th>\n",
       "      <td>0.691600</td>\n",
       "      <td>0.81</td>\n",
       "    </tr>\n",
       "    <tr>\n",
       "      <th>6</th>\n",
       "      <td>0.088134</td>\n",
       "      <td>0.18</td>\n",
       "    </tr>\n",
       "    <tr>\n",
       "      <th>7</th>\n",
       "      <td>0.352660</td>\n",
       "      <td>0.41</td>\n",
       "    </tr>\n",
       "  </tbody>\n",
       "</table>\n",
       "</div>"
      ],
      "text/plain": [
       "    Predict  Real\n",
       "0  0.265080  0.34\n",
       "1  0.378119  0.41\n",
       "2  0.510474  0.56\n",
       "3  0.808571  0.95\n",
       "4  0.538217  0.56\n",
       "5  0.691600  0.81\n",
       "6  0.088134  0.18\n",
       "7  0.352660  0.41"
      ]
     },
     "execution_count": 64,
     "metadata": {},
     "output_type": "execute_result"
    }
   ],
   "source": [
    "Test_values=DataFrame(array(model.predict(x_test)))\n",
    "y_test.index=range(len(y_test))\n",
    "Test_values[19]=y_test\n",
    "Test_values.columns=['Predict', 'Real']\n",
    "Test_values.head(8)"
   ]
  },
  {
   "cell_type": "code",
   "execution_count": 65,
   "id": "3dc2f2ba",
   "metadata": {
    "scrolled": true
   },
   "outputs": [
    {
     "data": {
      "text/plain": [
       "0.9266284962610764"
      ]
     },
     "execution_count": 65,
     "metadata": {},
     "output_type": "execute_result"
    }
   ],
   "source": [
    "model.score(x_test,y_test)"
   ]
  },
  {
   "cell_type": "code",
   "execution_count": null,
   "id": "4985408c",
   "metadata": {},
   "outputs": [],
   "source": []
  },
  {
   "cell_type": "code",
   "execution_count": null,
   "id": "4253087c",
   "metadata": {},
   "outputs": [],
   "source": []
  },
  {
   "cell_type": "code",
   "execution_count": null,
   "id": "25c1fd1a",
   "metadata": {},
   "outputs": [],
   "source": []
  },
  {
   "cell_type": "code",
   "execution_count": null,
   "id": "a5633b3e",
   "metadata": {},
   "outputs": [],
   "source": []
  },
  {
   "cell_type": "code",
   "execution_count": null,
   "id": "7138080f",
   "metadata": {},
   "outputs": [],
   "source": []
  },
  {
   "cell_type": "code",
   "execution_count": null,
   "id": "0325c049",
   "metadata": {},
   "outputs": [],
   "source": []
  },
  {
   "cell_type": "code",
   "execution_count": null,
   "id": "34e5f36d",
   "metadata": {},
   "outputs": [],
   "source": []
  },
  {
   "cell_type": "code",
   "execution_count": null,
   "id": "5392b013",
   "metadata": {},
   "outputs": [],
   "source": []
  },
  {
   "cell_type": "code",
   "execution_count": null,
   "id": "546870cd",
   "metadata": {},
   "outputs": [],
   "source": []
  },
  {
   "cell_type": "code",
   "execution_count": null,
   "id": "7ce5d5ed",
   "metadata": {},
   "outputs": [],
   "source": []
  },
  {
   "cell_type": "code",
   "execution_count": null,
   "id": "7841ad97",
   "metadata": {},
   "outputs": [],
   "source": []
  },
  {
   "cell_type": "code",
   "execution_count": null,
   "id": "a66d1e1e",
   "metadata": {},
   "outputs": [],
   "source": []
  },
  {
   "cell_type": "code",
   "execution_count": null,
   "id": "5097afb7",
   "metadata": {},
   "outputs": [],
   "source": []
  },
  {
   "cell_type": "code",
   "execution_count": null,
   "id": "4c7b2c44",
   "metadata": {},
   "outputs": [],
   "source": []
  },
  {
   "cell_type": "code",
   "execution_count": null,
   "id": "7c05e926",
   "metadata": {},
   "outputs": [],
   "source": []
  },
  {
   "cell_type": "code",
   "execution_count": null,
   "id": "67d84aed",
   "metadata": {},
   "outputs": [],
   "source": []
  },
  {
   "cell_type": "code",
   "execution_count": null,
   "id": "ea495311",
   "metadata": {},
   "outputs": [],
   "source": []
  }
 ],
 "metadata": {
  "kernelspec": {
   "display_name": "Python 3 (ipykernel)",
   "language": "python",
   "name": "python3"
  },
  "language_info": {
   "codemirror_mode": {
    "name": "ipython",
    "version": 3
   },
   "file_extension": ".py",
   "mimetype": "text/x-python",
   "name": "python",
   "nbconvert_exporter": "python",
   "pygments_lexer": "ipython3",
   "version": "3.9.10+"
  }
 },
 "nbformat": 4,
 "nbformat_minor": 5
}
