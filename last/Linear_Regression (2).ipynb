{
 "cells": [
  {
   "cell_type": "code",
   "execution_count": 163,
   "metadata": {},
   "outputs": [],
   "source": [
    "from numpy import array\n",
    "from numpy import dot\n",
    "from numpy import exp as exponent\n",
    "from numpy.random import normal\n",
    "from math import factorial\n",
    "from math import log as ln_e\n",
    "from random import random as random\n",
    "from pandas import DataFrame\n",
    "from sklearn.linear_model import LinearRegression\n",
    "from sklearn.model_selection import train_test_split\n",
    "from matplotlib import pyplot\n",
    "from time import sleep\n",
    "from warnings import filterwarnings as message\n",
    "message('ignore')\n"
   ]
  },
  {
   "cell_type": "markdown",
   "metadata": {},
   "source": [
    "# local function"
   ]
  },
  {
   "cell_type": "code",
   "execution_count": 164,
   "metadata": {},
   "outputs": [],
   "source": [
    "def ReLu(element):\n",
    "    return True if element>0.5 else False\n",
    "\n",
    "def gender_switch(gend):\n",
    "    return 'Male' if gend else 'Female'\n",
    "\n",
    "def age_generator(diapazone_=19, _diapazone=61):\n",
    "        random_numbers=[random() for ranger in range(100)]\n",
    "        _return_=[diapazone_ + (_diapazone-diapazone_)* random_numbers[index] \n",
    "                 for index in range(len(random_numbers))]\n",
    "        return _return_"
   ]
  },
  {
   "cell_type": "markdown",
   "metadata": {},
   "source": [
    "# N1"
   ]
  },
  {
   "cell_type": "code",
   "execution_count": null,
   "metadata": {},
   "outputs": [],
   "source": []
  },
  {
   "cell_type": "code",
   "execution_count": 165,
   "metadata": {},
   "outputs": [],
   "source": [
    "elements=[random() for ranger in range(100)]\n",
    "genders=[ReLu(element) for element in elements ]\n",
    "_genders_=[gender_switch(gender) for gender in genders]"
   ]
  },
  {
   "cell_type": "markdown",
   "metadata": {},
   "source": [
    "# N2"
   ]
  },
  {
   "cell_type": "code",
   "execution_count": 166,
   "metadata": {},
   "outputs": [],
   "source": [
    "ages=age_generator()\n",
    "ages=[int(age) for age in ages]"
   ]
  },
  {
   "cell_type": "markdown",
   "metadata": {},
   "source": [
    "# N3"
   ]
  },
  {
   "cell_type": "code",
   "execution_count": 167,
   "metadata": {},
   "outputs": [],
   "source": [
    "guops=age_generator(200, 10000)\n",
    "guops=[int(guop) for guop in guops]"
   ]
  },
  {
   "cell_type": "code",
   "execution_count": 168,
   "metadata": {},
   "outputs": [],
   "source": [
    "def _sigmoid_(element):\n",
    "    return element/100"
   ]
  },
  {
   "cell_type": "code",
   "execution_count": 169,
   "metadata": {},
   "outputs": [],
   "source": [
    "def sigmoid(element):\n",
    "    return exponent(element)/(exponent(element)+1)"
   ]
  },
  {
   "cell_type": "code",
   "execution_count": 170,
   "metadata": {},
   "outputs": [],
   "source": [
    "def head_skiline(df):\n",
    "    for index in df.index:\n",
    "        if df['Genders'][index]:\n",
    "            df['Sold'][index]+=37\n",
    "            \n",
    "            if df['Guops'][index]>7000:\n",
    "                df['Sold'][index]+=25\n",
    "                \n",
    "                if df['Ages'][index]<35:\n",
    "                    df['Sold'][index]+=33\n",
    "                    \n",
    "                elif df['Ages'][index]>40:\n",
    "                    df['Sold'][index]+=19\n",
    "                    \n",
    "                else:\n",
    "                    df['Sold'][index]+=14\n",
    "\n",
    "            else:\n",
    "                if df['Ages'][index]<35:\n",
    "                    df['Sold'][index]+=33\n",
    "                    \n",
    "                elif df['Ages'][index]>40:\n",
    "                    df['Sold'][index]+=19\n",
    "                    \n",
    "                else:\n",
    "                    df['Sold'][index]+=14\n",
    "                    \n",
    "                    \n",
    "                    \n",
    "                    \n",
    "        else:\n",
    "            if df['Guops'][index]>7000:\n",
    "                df['Sold'][index]+=18\n",
    "                \n",
    "                if df['Ages'][index]<35:\n",
    "                    df['Sold'][index]+=23\n",
    "                    \n",
    "                elif df['Ages'][index]>40:\n",
    "                    df['Sold'][index]+=16\n",
    "                    \n",
    "                else:\n",
    "                    df['Sold'][index]+=11\n",
    "\n",
    "            else:\n",
    "                if df['Ages'][index]<35:\n",
    "                    df['Sold'][index]+=29\n",
    "                    \n",
    "                elif df['Ages'][index]>40:\n",
    "                    df['Sold'][index]+=18\n",
    "                    \n",
    "                else:\n",
    "                    df['Sold'][index]+=9\n",
    "    \n",
    "    df['Sold']=[int(100*_sigmoid_(sold))/100 for sold in df['Sold']]\n",
    "    return df"
   ]
  },
  {
   "cell_type": "code",
   "execution_count": null,
   "metadata": {},
   "outputs": [],
   "source": []
  },
  {
   "cell_type": "code",
   "execution_count": 171,
   "metadata": {},
   "outputs": [],
   "source": [
    "df=head_skiline(df)"
   ]
  },
  {
   "cell_type": "code",
   "execution_count": 172,
   "metadata": {},
   "outputs": [
    {
     "data": {
      "text/html": [
       "<div>\n",
       "<style scoped>\n",
       "    .dataframe tbody tr th:only-of-type {\n",
       "        vertical-align: middle;\n",
       "    }\n",
       "\n",
       "    .dataframe tbody tr th {\n",
       "        vertical-align: top;\n",
       "    }\n",
       "\n",
       "    .dataframe thead th {\n",
       "        text-align: right;\n",
       "    }\n",
       "</style>\n",
       "<table border=\"1\" class=\"dataframe\">\n",
       "  <thead>\n",
       "    <tr style=\"text-align: right;\">\n",
       "      <th></th>\n",
       "      <th>Genders</th>\n",
       "      <th>Ages</th>\n",
       "      <th>Guops</th>\n",
       "      <th>Sold</th>\n",
       "    </tr>\n",
       "  </thead>\n",
       "  <tbody>\n",
       "    <tr>\n",
       "      <th>0</th>\n",
       "      <td>False</td>\n",
       "      <td>59</td>\n",
       "      <td>9368</td>\n",
       "      <td>0.34</td>\n",
       "    </tr>\n",
       "    <tr>\n",
       "      <th>1</th>\n",
       "      <td>False</td>\n",
       "      <td>34</td>\n",
       "      <td>280</td>\n",
       "      <td>0.29</td>\n",
       "    </tr>\n",
       "    <tr>\n",
       "      <th>2</th>\n",
       "      <td>False</td>\n",
       "      <td>35</td>\n",
       "      <td>9504</td>\n",
       "      <td>0.29</td>\n",
       "    </tr>\n",
       "    <tr>\n",
       "      <th>3</th>\n",
       "      <td>True</td>\n",
       "      <td>52</td>\n",
       "      <td>9288</td>\n",
       "      <td>0.81</td>\n",
       "    </tr>\n",
       "    <tr>\n",
       "      <th>4</th>\n",
       "      <td>False</td>\n",
       "      <td>52</td>\n",
       "      <td>8913</td>\n",
       "      <td>0.34</td>\n",
       "    </tr>\n",
       "    <tr>\n",
       "      <th>...</th>\n",
       "      <td>...</td>\n",
       "      <td>...</td>\n",
       "      <td>...</td>\n",
       "      <td>...</td>\n",
       "    </tr>\n",
       "    <tr>\n",
       "      <th>95</th>\n",
       "      <td>True</td>\n",
       "      <td>27</td>\n",
       "      <td>3975</td>\n",
       "      <td>0.70</td>\n",
       "    </tr>\n",
       "    <tr>\n",
       "      <th>96</th>\n",
       "      <td>True</td>\n",
       "      <td>42</td>\n",
       "      <td>7043</td>\n",
       "      <td>0.81</td>\n",
       "    </tr>\n",
       "    <tr>\n",
       "      <th>97</th>\n",
       "      <td>False</td>\n",
       "      <td>37</td>\n",
       "      <td>2365</td>\n",
       "      <td>0.09</td>\n",
       "    </tr>\n",
       "    <tr>\n",
       "      <th>98</th>\n",
       "      <td>True</td>\n",
       "      <td>32</td>\n",
       "      <td>4880</td>\n",
       "      <td>0.70</td>\n",
       "    </tr>\n",
       "    <tr>\n",
       "      <th>99</th>\n",
       "      <td>False</td>\n",
       "      <td>55</td>\n",
       "      <td>9034</td>\n",
       "      <td>0.34</td>\n",
       "    </tr>\n",
       "  </tbody>\n",
       "</table>\n",
       "<p>100 rows × 4 columns</p>\n",
       "</div>"
      ],
      "text/plain": [
       "    Genders  Ages  Guops  Sold\n",
       "0     False    59   9368  0.34\n",
       "1     False    34    280  0.29\n",
       "2     False    35   9504  0.29\n",
       "3      True    52   9288  0.81\n",
       "4     False    52   8913  0.34\n",
       "..      ...   ...    ...   ...\n",
       "95     True    27   3975  0.70\n",
       "96     True    42   7043  0.81\n",
       "97    False    37   2365  0.09\n",
       "98     True    32   4880  0.70\n",
       "99    False    55   9034  0.34\n",
       "\n",
       "[100 rows x 4 columns]"
      ]
     },
     "execution_count": 172,
     "metadata": {},
     "output_type": "execute_result"
    }
   ],
   "source": [
    "df"
   ]
  },
  {
   "cell_type": "code",
   "execution_count": null,
   "metadata": {},
   "outputs": [],
   "source": []
  },
  {
   "cell_type": "code",
   "execution_count": null,
   "metadata": {},
   "outputs": [],
   "source": []
  },
  {
   "cell_type": "code",
   "execution_count": null,
   "metadata": {},
   "outputs": [],
   "source": []
  },
  {
   "cell_type": "code",
   "execution_count": null,
   "metadata": {},
   "outputs": [],
   "source": []
  },
  {
   "cell_type": "code",
   "execution_count": null,
   "metadata": {},
   "outputs": [],
   "source": []
  },
  {
   "cell_type": "code",
   "execution_count": 173,
   "metadata": {},
   "outputs": [
    {
     "data": {
      "text/plain": [
       "array(['0.34', '0.29', '0.29', 'Male', '0.34', '0.29', '0.29', 'Male',\n",
       "       'Male', 'Male', 'Male', '0.41', 'Male', 'Male', 'Male', 'Male',\n",
       "       '0.18', 'Male', '0.09', 'Male', '0.18', 'Male', 'Male', 'Male',\n",
       "       'Male', 'Male', '0.29', 'Male', '0.18', '0.18', 'Male', '0.09',\n",
       "       '0.41', 'Male', '0.29', 'Male', '0.29', 'Male', 'Male', 'Male',\n",
       "       'Male', 'Male', '0.18', '0.41', '0.29', 'Male', '0.34', 'Male',\n",
       "       '0.34', '0.34', '0.34', '0.29', '0.18', 'Male', '0.41', '0.18',\n",
       "       '0.09', '0.41', '0.41', '0.34', 'Male', '0.18', 'Male', '0.29',\n",
       "       '0.29', 'Male', '0.29', '0.29', 'Male', '0.29', 'Male', 'Male',\n",
       "       'Male', 'Male', '0.41', 'Male', 'Male', 'Male', '0.29', 'Male',\n",
       "       'Male', '0.29', 'Male', '0.29', '0.18', 'Male', '0.29', 'Male',\n",
       "       'Male', '0.29', '0.41', 'Male', '0.18', '0.09', 'Male', 'Male',\n",
       "       'Male', '0.09', 'Male', '0.34'], dtype='<U32')"
      ]
     },
     "execution_count": 173,
     "metadata": {},
     "output_type": "execute_result"
    }
   ],
   "source": [
    "array([df['Sold'][index] if df['Genders'][index]==False else 'Male' for index in df.index])"
   ]
  },
  {
   "cell_type": "code",
   "execution_count": 174,
   "metadata": {},
   "outputs": [
    {
     "data": {
      "text/plain": [
       "array(['Female', 'Female', 'Female', '0.81', 'Female', 'Female', 'Female',\n",
       "       '0.56', '0.7', '0.81', '0.56', 'Female', '0.56', '0.56', '0.7',\n",
       "       '0.56', 'Female', '0.56', 'Female', '0.56', 'Female', '0.56',\n",
       "       '0.81', '0.56', '0.56', '0.7', 'Female', '0.56', 'Female',\n",
       "       'Female', '0.7', 'Female', 'Female', '0.81', 'Female', '0.51',\n",
       "       'Female', '0.51', '0.56', '0.7', '0.51', '0.95', 'Female',\n",
       "       'Female', 'Female', '0.81', 'Female', '0.56', 'Female', 'Female',\n",
       "       'Female', 'Female', 'Female', '0.95', 'Female', 'Female', 'Female',\n",
       "       'Female', 'Female', 'Female', '0.7', 'Female', '0.7', 'Female',\n",
       "       'Female', '0.81', 'Female', 'Female', '0.56', 'Female', '0.51',\n",
       "       '0.81', '0.7', '0.7', 'Female', '0.7', '0.95', '0.95', 'Female',\n",
       "       '0.56', '0.76', 'Female', '0.81', 'Female', 'Female', '0.95',\n",
       "       'Female', '0.95', '0.81', 'Female', 'Female', '0.95', 'Female',\n",
       "       'Female', '0.81', '0.7', '0.81', 'Female', '0.7', 'Female'],\n",
       "      dtype='<U6')"
      ]
     },
     "execution_count": 174,
     "metadata": {},
     "output_type": "execute_result"
    }
   ],
   "source": [
    "array([df['Sold'][index] if df['Genders'][index] else 'Female' for index in df.index])"
   ]
  },
  {
   "cell_type": "code",
   "execution_count": 175,
   "metadata": {},
   "outputs": [],
   "source": [
    "X,Y=df.drop('Sold', axis=1),df['Sold']\n",
    "x_train,x_test,y_train,y_test=train_test_split(X,Y,test_size=0.23, random_state=True)"
   ]
  },
  {
   "cell_type": "code",
   "execution_count": 176,
   "metadata": {},
   "outputs": [
    {
     "data": {
      "text/plain": [
       "LinearRegression(copy_X=True, fit_intercept=True, n_jobs=None, normalize=False)"
      ]
     },
     "execution_count": 176,
     "metadata": {},
     "output_type": "execute_result"
    }
   ],
   "source": [
    "model=LinearRegression()\n",
    "model.fit(x_train,y_train)"
   ]
  },
  {
   "cell_type": "code",
   "execution_count": null,
   "metadata": {},
   "outputs": [],
   "source": []
  },
  {
   "cell_type": "code",
   "execution_count": 177,
   "metadata": {},
   "outputs": [
    {
     "data": {
      "text/plain": [
       "array([ 4.07237904e-01, -4.37702296e-03,  2.62435938e-05])"
      ]
     },
     "execution_count": 177,
     "metadata": {},
     "output_type": "execute_result"
    }
   ],
   "source": [
    "model.coef_"
   ]
  },
  {
   "cell_type": "code",
   "execution_count": 178,
   "metadata": {},
   "outputs": [
    {
     "data": {
      "text/plain": [
       "0.32297261023780854"
      ]
     },
     "execution_count": 178,
     "metadata": {},
     "output_type": "execute_result"
    }
   ],
   "source": [
    "model.intercept_"
   ]
  },
  {
   "cell_type": "code",
   "execution_count": 179,
   "metadata": {},
   "outputs": [],
   "source": [
    "# x_1*w_1 + x_2*w_2, x_3*w_3 + bias = y"
   ]
  },
  {
   "cell_type": "code",
   "execution_count": 180,
   "metadata": {},
   "outputs": [
    {
     "data": {
      "text/plain": [
       "0.8429207086409966"
      ]
     },
     "execution_count": 180,
     "metadata": {},
     "output_type": "execute_result"
    }
   ],
   "source": [
    "model.score(x_test,y_test)"
   ]
  },
  {
   "cell_type": "code",
   "execution_count": 181,
   "metadata": {},
   "outputs": [
    {
     "data": {
      "text/plain": [
       "array([0.76, 0.18, 0.81, 0.29, 0.09, 0.56, 0.29, 0.81, 0.29, 0.81, 0.18,\n",
       "       0.7 , 0.09, 0.18, 0.29, 0.41, 0.09, 0.29, 0.29, 0.56, 0.29, 0.7 ,\n",
       "       0.09])"
      ]
     },
     "execution_count": 181,
     "metadata": {},
     "output_type": "execute_result"
    }
   ],
   "source": [
    "array(y_test)"
   ]
  },
  {
   "cell_type": "code",
   "execution_count": 182,
   "metadata": {},
   "outputs": [
    {
     "data": {
      "text/plain": [
       "array([0.77974647, 0.26911651, 0.74205391, 0.3949525 , 0.33600373,\n",
       "       0.620085  , 0.347024  , 0.76678622, 0.34169089, 0.73708256,\n",
       "       0.27359332, 0.68435824, 0.19598488, 0.19432635, 0.39824426,\n",
       "       0.41798667, 0.32734334, 0.26869976, 0.2590781 , 0.58282429,\n",
       "       0.41919592, 0.77845849, 0.22308886])"
      ]
     },
     "execution_count": 182,
     "metadata": {},
     "output_type": "execute_result"
    }
   ],
   "source": [
    "model.predict(x_test)"
   ]
  },
  {
   "cell_type": "code",
   "execution_count": 183,
   "metadata": {},
   "outputs": [
    {
     "data": {
      "text/html": [
       "<div>\n",
       "<style scoped>\n",
       "    .dataframe tbody tr th:only-of-type {\n",
       "        vertical-align: middle;\n",
       "    }\n",
       "\n",
       "    .dataframe tbody tr th {\n",
       "        vertical-align: top;\n",
       "    }\n",
       "\n",
       "    .dataframe thead th {\n",
       "        text-align: right;\n",
       "    }\n",
       "</style>\n",
       "<table border=\"1\" class=\"dataframe\">\n",
       "  <thead>\n",
       "    <tr style=\"text-align: right;\">\n",
       "      <th></th>\n",
       "      <th>Predict</th>\n",
       "      <th>Real</th>\n",
       "    </tr>\n",
       "  </thead>\n",
       "  <tbody>\n",
       "    <tr>\n",
       "      <th>0</th>\n",
       "      <td>0.779746</td>\n",
       "      <td>0.76</td>\n",
       "    </tr>\n",
       "    <tr>\n",
       "      <th>1</th>\n",
       "      <td>0.269117</td>\n",
       "      <td>0.18</td>\n",
       "    </tr>\n",
       "    <tr>\n",
       "      <th>2</th>\n",
       "      <td>0.742054</td>\n",
       "      <td>0.81</td>\n",
       "    </tr>\n",
       "    <tr>\n",
       "      <th>3</th>\n",
       "      <td>0.394952</td>\n",
       "      <td>0.29</td>\n",
       "    </tr>\n",
       "    <tr>\n",
       "      <th>4</th>\n",
       "      <td>0.336004</td>\n",
       "      <td>0.09</td>\n",
       "    </tr>\n",
       "    <tr>\n",
       "      <th>5</th>\n",
       "      <td>0.620085</td>\n",
       "      <td>0.56</td>\n",
       "    </tr>\n",
       "    <tr>\n",
       "      <th>6</th>\n",
       "      <td>0.347024</td>\n",
       "      <td>0.29</td>\n",
       "    </tr>\n",
       "    <tr>\n",
       "      <th>7</th>\n",
       "      <td>0.766786</td>\n",
       "      <td>0.81</td>\n",
       "    </tr>\n",
       "    <tr>\n",
       "      <th>8</th>\n",
       "      <td>0.341691</td>\n",
       "      <td>0.29</td>\n",
       "    </tr>\n",
       "    <tr>\n",
       "      <th>9</th>\n",
       "      <td>0.737083</td>\n",
       "      <td>0.81</td>\n",
       "    </tr>\n",
       "    <tr>\n",
       "      <th>10</th>\n",
       "      <td>0.273593</td>\n",
       "      <td>0.18</td>\n",
       "    </tr>\n",
       "    <tr>\n",
       "      <th>11</th>\n",
       "      <td>0.684358</td>\n",
       "      <td>0.70</td>\n",
       "    </tr>\n",
       "    <tr>\n",
       "      <th>12</th>\n",
       "      <td>0.195985</td>\n",
       "      <td>0.09</td>\n",
       "    </tr>\n",
       "    <tr>\n",
       "      <th>13</th>\n",
       "      <td>0.194326</td>\n",
       "      <td>0.18</td>\n",
       "    </tr>\n",
       "    <tr>\n",
       "      <th>14</th>\n",
       "      <td>0.398244</td>\n",
       "      <td>0.29</td>\n",
       "    </tr>\n",
       "    <tr>\n",
       "      <th>15</th>\n",
       "      <td>0.417987</td>\n",
       "      <td>0.41</td>\n",
       "    </tr>\n",
       "    <tr>\n",
       "      <th>16</th>\n",
       "      <td>0.327343</td>\n",
       "      <td>0.09</td>\n",
       "    </tr>\n",
       "    <tr>\n",
       "      <th>17</th>\n",
       "      <td>0.268700</td>\n",
       "      <td>0.29</td>\n",
       "    </tr>\n",
       "    <tr>\n",
       "      <th>18</th>\n",
       "      <td>0.259078</td>\n",
       "      <td>0.29</td>\n",
       "    </tr>\n",
       "    <tr>\n",
       "      <th>19</th>\n",
       "      <td>0.582824</td>\n",
       "      <td>0.56</td>\n",
       "    </tr>\n",
       "    <tr>\n",
       "      <th>20</th>\n",
       "      <td>0.419196</td>\n",
       "      <td>0.29</td>\n",
       "    </tr>\n",
       "    <tr>\n",
       "      <th>21</th>\n",
       "      <td>0.778458</td>\n",
       "      <td>0.70</td>\n",
       "    </tr>\n",
       "    <tr>\n",
       "      <th>22</th>\n",
       "      <td>0.223089</td>\n",
       "      <td>0.09</td>\n",
       "    </tr>\n",
       "  </tbody>\n",
       "</table>\n",
       "</div>"
      ],
      "text/plain": [
       "     Predict  Real\n",
       "0   0.779746  0.76\n",
       "1   0.269117  0.18\n",
       "2   0.742054  0.81\n",
       "3   0.394952  0.29\n",
       "4   0.336004  0.09\n",
       "5   0.620085  0.56\n",
       "6   0.347024  0.29\n",
       "7   0.766786  0.81\n",
       "8   0.341691  0.29\n",
       "9   0.737083  0.81\n",
       "10  0.273593  0.18\n",
       "11  0.684358  0.70\n",
       "12  0.195985  0.09\n",
       "13  0.194326  0.18\n",
       "14  0.398244  0.29\n",
       "15  0.417987  0.41\n",
       "16  0.327343  0.09\n",
       "17  0.268700  0.29\n",
       "18  0.259078  0.29\n",
       "19  0.582824  0.56\n",
       "20  0.419196  0.29\n",
       "21  0.778458  0.70\n",
       "22  0.223089  0.09"
      ]
     },
     "execution_count": 183,
     "metadata": {},
     "output_type": "execute_result"
    }
   ],
   "source": [
    "Test_values=DataFrame(array(model.predict(x_test)))\n",
    "y_test.index=range(len(y_test))\n",
    "Test_values[19]=y_test\n",
    "Test_values.columns=['Predict', 'Real']\n",
    "Test_values"
   ]
  },
  {
   "cell_type": "code",
   "execution_count": null,
   "metadata": {},
   "outputs": [],
   "source": []
  },
  {
   "cell_type": "code",
   "execution_count": null,
   "metadata": {},
   "outputs": [],
   "source": []
  },
  {
   "cell_type": "code",
   "execution_count": null,
   "metadata": {},
   "outputs": [],
   "source": []
  },
  {
   "cell_type": "code",
   "execution_count": null,
   "metadata": {},
   "outputs": [],
   "source": []
  },
  {
   "cell_type": "code",
   "execution_count": null,
   "metadata": {},
   "outputs": [],
   "source": []
  },
  {
   "cell_type": "code",
   "execution_count": null,
   "metadata": {},
   "outputs": [],
   "source": []
  },
  {
   "cell_type": "code",
   "execution_count": null,
   "metadata": {},
   "outputs": [],
   "source": []
  },
  {
   "cell_type": "code",
   "execution_count": null,
   "metadata": {},
   "outputs": [],
   "source": []
  },
  {
   "cell_type": "code",
   "execution_count": null,
   "metadata": {},
   "outputs": [],
   "source": []
  },
  {
   "cell_type": "code",
   "execution_count": null,
   "metadata": {},
   "outputs": [],
   "source": []
  },
  {
   "cell_type": "code",
   "execution_count": null,
   "metadata": {},
   "outputs": [],
   "source": []
  },
  {
   "cell_type": "code",
   "execution_count": null,
   "metadata": {},
   "outputs": [],
   "source": []
  },
  {
   "cell_type": "code",
   "execution_count": null,
   "metadata": {},
   "outputs": [],
   "source": []
  },
  {
   "cell_type": "code",
   "execution_count": null,
   "metadata": {},
   "outputs": [],
   "source": []
  },
  {
   "cell_type": "code",
   "execution_count": null,
   "metadata": {},
   "outputs": [],
   "source": []
  },
  {
   "cell_type": "code",
   "execution_count": null,
   "metadata": {},
   "outputs": [],
   "source": []
  },
  {
   "cell_type": "code",
   "execution_count": null,
   "metadata": {},
   "outputs": [],
   "source": []
  },
  {
   "cell_type": "code",
   "execution_count": null,
   "metadata": {},
   "outputs": [],
   "source": []
  }
 ],
 "metadata": {
  "kernelspec": {
   "display_name": "Python 3",
   "language": "python",
   "name": "python3"
  },
  "language_info": {
   "codemirror_mode": {
    "name": "ipython",
    "version": 3
   },
   "file_extension": ".py",
   "mimetype": "text/x-python",
   "name": "python",
   "nbconvert_exporter": "python",
   "pygments_lexer": "ipython3",
   "version": "3.7.6"
  }
 },
 "nbformat": 4,
 "nbformat_minor": 5
}
