{
 "cells": [
  {
   "cell_type": "code",
   "execution_count": 100,
   "metadata": {},
   "outputs": [],
   "source": [
    "import numpy as np\n",
    "from matplotlib import pyplot\n",
    "from seaborn import load_dataset\n",
    "from pandas import read_csv\n",
    "from pandas import DataFrame\n",
    "from math import log as ln\n",
    "\n",
    "from sklearn.preprocessing import OneHotEncoder\n",
    "from sklearn.compose import make_column_transformer\n",
    "from sklearn.model_selection import train_test_split\n",
    "from sklearn.linear_model import LinearRegression\n",
    "from sklearn.linear_model import LogisticRegression\n"
   ]
  },
  {
   "cell_type": "code",
   "execution_count": 101,
   "metadata": {},
   "outputs": [],
   "source": [
    "from pandas import concat"
   ]
  },
  {
   "cell_type": "code",
   "execution_count": null,
   "metadata": {},
   "outputs": [],
   "source": []
  },
  {
   "cell_type": "code",
   "execution_count": null,
   "metadata": {},
   "outputs": [],
   "source": []
  },
  {
   "cell_type": "code",
   "execution_count": 186,
   "metadata": {},
   "outputs": [],
   "source": [
    "df=read_csv('penguins.csv')\n",
    "df=df.drop(df.columns[0], axis=1)\n",
    "df=df.dropna()\n",
    "df.index=range(len(df.index))"
   ]
  },
  {
   "cell_type": "code",
   "execution_count": 187,
   "metadata": {},
   "outputs": [],
   "source": [
    "class Special:\n",
    "    def __init__(self):\n",
    "        print('Special')\n",
    "        \n",
    "    def special_vector(self,vector):\n",
    "        return np.sum([True if value in vector.unique() else False for value in vector])==len(df.index)\n",
    "    \n",
    "    def special_data(self,data):\n",
    "        return np.array([self.special_vector(data[column]) for column in data.columns])"
   ]
  },
  {
   "cell_type": "code",
   "execution_count": 188,
   "metadata": {},
   "outputs": [
    {
     "name": "stdout",
     "output_type": "stream",
     "text": [
      "Special\n"
     ]
    },
    {
     "data": {
      "text/plain": [
       "array([ True,  True,  True,  True,  True,  True,  True,  True])"
      ]
     },
     "execution_count": 188,
     "metadata": {},
     "output_type": "execute_result"
    }
   ],
   "source": [
    "Special().special_data(data=df)"
   ]
  },
  {
   "cell_type": "code",
   "execution_count": 189,
   "metadata": {},
   "outputs": [
    {
     "data": {
      "text/plain": [
       "[array(['Adelie', 'Gentoo', 'Chinstrap'], dtype=object),\n",
       " array(['Torgersen', 'Biscoe', 'Dream'], dtype=object),\n",
       " array([39.1, 39.5, 40.3, 36.7, 39.3, 38.9, 39.2, 41.1, 38.6, 34.6, 36.6,\n",
       "        38.7, 42.5, 34.4, 46. , 37.8, 37.7, 35.9, 38.2, 38.8, 35.3, 40.6,\n",
       "        40.5, 37.9, 37.2, 40.9, 36.4, 42.2, 37.6, 39.8, 36.5, 40.8, 36. ,\n",
       "        44.1, 37. , 39.6, 42.3, 40.1, 35. , 42. , 34.5, 41.4, 39. , 35.7,\n",
       "        41.3, 41.6, 35.5, 41.8, 33.5, 39.7, 45.8, 42.8, 36.2, 42.1, 42.9,\n",
       "        35.1, 37.3, 36.3, 36.9, 38.3, 34. , 38.1, 33.1, 43.2, 41. , 45.6,\n",
       "        42.7, 40.2, 35.2, 41.5, 38.5, 43.1, 36.8, 37.5, 35.6, 32.1, 40.7,\n",
       "        46.1, 50. , 48.7, 47.6, 46.5, 45.4, 46.7, 43.3, 46.8, 49. , 45.5,\n",
       "        48.4, 49.3, 49.2, 46.2, 50.2, 45.1, 46.3, 47.8, 48.2, 47.3, 59.6,\n",
       "        49.1, 42.6, 44.4, 44. , 49.6, 45.3, 50.5, 43.6, 44.9, 45.2, 46.6,\n",
       "        48.5, 50.1, 45. , 43.8, 50.4, 45.7, 54.3, 49.8, 49.5, 43.5, 50.7,\n",
       "        47.7, 46.4, 48.6, 47.5, 51.1, 52.5, 47.4, 50.8, 43.4, 51.3, 52.1,\n",
       "        52.2, 44.5, 49.4, 46.9, 55.9, 47.2, 41.7, 53.4, 48.1, 51.5, 55.1,\n",
       "        48.8, 49.9, 52.7, 51.7, 47. , 52. , 45.9, 50.3, 58. , 42.4, 50.6,\n",
       "        52.8, 54.2, 51. , 49.7, 53.5, 50.9, 51.4, 51.9, 55.8]),\n",
       " array([18.7, 17.4, 18. , 19.3, 20.6, 17.8, 19.6, 17.6, 21.2, 21.1, 19. ,\n",
       "        20.7, 18.4, 21.5, 18.3, 19.2, 18.1, 17.2, 18.9, 18.6, 17.9, 16.7,\n",
       "        17. , 20. , 18.5, 19.1, 19.7, 16.9, 18.8, 17.7, 19.5, 17.5, 16.6,\n",
       "        18.2, 17.1, 16.2, 19.4, 16.8, 16.1, 20.3, 17.3, 16. , 16.5, 20.5,\n",
       "        19.8, 15.9, 20.1, 15.5, 13.2, 16.3, 14.1, 15.2, 14.5, 13.5, 14.6,\n",
       "        15.3, 13.4, 15.4, 13.7, 15.7, 15.1, 14.3, 15.8, 13.1, 15. , 14.2,\n",
       "        14.8, 13.6, 13.9, 13.3, 14.4, 13.8, 14.9, 15.6, 16.4, 14. , 14.7,\n",
       "        19.9, 20.8]),\n",
       " array([181., 186., 195., 193., 190., 182., 191., 198., 185., 197., 184.,\n",
       "        194., 174., 180., 189., 187., 183., 172., 178., 188., 196., 200.,\n",
       "        192., 202., 205., 208., 203., 199., 176., 210., 201., 211., 230.,\n",
       "        218., 215., 219., 209., 214., 216., 213., 217., 221., 222., 220.,\n",
       "        207., 225., 224., 231., 229., 223., 212., 228., 226., 206.]),\n",
       " array([3750., 3800., 3250., 3450., 3650., 3625., 4675., 3200., 4400.,\n",
       "        3700., 4500., 3325., 4200., 3400., 3600., 3950., 3550., 3150.,\n",
       "        3900., 3300., 4150., 4650., 3100., 3000., 4600., 3425., 3500.,\n",
       "        4300., 4050., 2900., 2850., 3350., 4100., 3050., 4450., 4250.,\n",
       "        4000., 4700., 4350., 3725., 4725., 3075., 2925., 3175., 4775.,\n",
       "        3825., 4275., 4075., 3775., 3875., 3275., 4475., 3975., 3475.,\n",
       "        5700., 5400., 4550., 4800., 5200., 5150., 5550., 5850., 6300.,\n",
       "        5350., 5000., 5050., 5100., 5650., 5250., 6050., 4950., 4750.,\n",
       "        4900., 5300., 4850., 5800., 6000., 5950., 4625., 5450., 5600.,\n",
       "        4875., 4925., 4975., 5500., 4575., 4375., 5750., 3525., 3575.,\n",
       "        3850., 2700., 3675.]),\n",
       " array(['male', 'female'], dtype=object),\n",
       " array([2007, 2008, 2009])]"
      ]
     },
     "execution_count": 189,
     "metadata": {},
     "output_type": "execute_result"
    }
   ],
   "source": [
    "[df[column].unique() for column in df.columns]"
   ]
  },
  {
   "cell_type": "code",
   "execution_count": null,
   "metadata": {},
   "outputs": [],
   "source": []
  },
  {
   "cell_type": "code",
   "execution_count": 190,
   "metadata": {},
   "outputs": [],
   "source": [
    "data=df"
   ]
  },
  {
   "cell_type": "code",
   "execution_count": 191,
   "metadata": {},
   "outputs": [],
   "source": [
    "class Column_transfer:\n",
    "    def __init__(self):\n",
    "        print('Column Transfer', True)\n",
    "        \n",
    "    def column_cut(self, df=df,column='column'):\n",
    "        column_transformer = make_column_transformer(\n",
    "                    (OneHotEncoder(), [column]))\n",
    "        df=column_transformer.fit_transform(df)\n",
    "        df = DataFrame(df,columns=[name_generator.split('_')[-1] for name_generator in column_transformer.get_feature_names()])\n",
    "        return df\n",
    "\n",
    "    def concatenate(self, data=df, cut_columns=[data.columns[0],data.columns[1], data.columns[-1], data.columns[-2]]):\n",
    "        DF=[self.column_cut(data, column=column) for column in cut_columns]\n",
    "        return DF[0].join(DF[1]).join(DF[2]).join(DF[3]).join(data.drop(cut_columns, axis=1))\n",
    "    "
   ]
  },
  {
   "cell_type": "code",
   "execution_count": null,
   "metadata": {},
   "outputs": [],
   "source": []
  },
  {
   "cell_type": "code",
   "execution_count": 192,
   "metadata": {},
   "outputs": [
    {
     "name": "stdout",
     "output_type": "stream",
     "text": [
      "Column Transfer True\n"
     ]
    }
   ],
   "source": [
    "df=Column_transfer().concatenate()"
   ]
  },
  {
   "cell_type": "code",
   "execution_count": 206,
   "metadata": {},
   "outputs": [],
   "source": [
    "x,y=df.drop(['body_mass_g'],axis=1), df['body_mass_g']"
   ]
  },
  {
   "cell_type": "code",
   "execution_count": 207,
   "metadata": {},
   "outputs": [],
   "source": [
    "x_train,x_test,y_train,y_test=train_test_split(x, y , test_size=0.25, shuffle=True)"
   ]
  },
  {
   "cell_type": "code",
   "execution_count": 208,
   "metadata": {},
   "outputs": [],
   "source": [
    "model=LinearRegression().fit(x_train,y_train)"
   ]
  },
  {
   "cell_type": "code",
   "execution_count": null,
   "metadata": {},
   "outputs": [],
   "source": []
  },
  {
   "cell_type": "code",
   "execution_count": 209,
   "metadata": {},
   "outputs": [],
   "source": [
    "def model_score(model='model', x_test=x_test, y_test=y_test):\n",
    "    median_loss=np.array([abs(element) for element in np.array(\n",
    "        DataFrame(model.predict(x_test), index=x_test.index).T.values[0])  -   DataFrame(y_test).T.values[0]\n",
    "                     ]).mean()\n",
    "    \n",
    "    return np.sum(np.array(DataFrame(\n",
    "        model.predict(x_test), index=x_test.index).T.values[0])  -   DataFrame(\n",
    "                                                                                y_test).T.values[0]<median_loss)/len(y_test.index)"
   ]
  },
  {
   "cell_type": "code",
   "execution_count": null,
   "metadata": {},
   "outputs": [],
   "source": []
  },
  {
   "cell_type": "code",
   "execution_count": 210,
   "metadata": {},
   "outputs": [
    {
     "data": {
      "text/plain": [
       "0.75"
      ]
     },
     "execution_count": 210,
     "metadata": {},
     "output_type": "execute_result"
    }
   ],
   "source": [
    "model_score(model=model, x_test=x_test, y_test=y_test)"
   ]
  },
  {
   "cell_type": "code",
   "execution_count": 211,
   "metadata": {},
   "outputs": [
    {
     "data": {
      "text/plain": [
       "0.7831325301204819"
      ]
     },
     "execution_count": 211,
     "metadata": {},
     "output_type": "execute_result"
    }
   ],
   "source": [
    "model_score(model=model, x_test=x_train, y_test=y_train)"
   ]
  },
  {
   "cell_type": "code",
   "execution_count": null,
   "metadata": {},
   "outputs": [],
   "source": []
  },
  {
   "cell_type": "code",
   "execution_count": 212,
   "metadata": {},
   "outputs": [
    {
     "data": {
      "text/plain": [
       "0.8274937757200388"
      ]
     },
     "execution_count": 212,
     "metadata": {},
     "output_type": "execute_result"
    }
   ],
   "source": [
    "model.score(x_test,y_test)"
   ]
  },
  {
   "cell_type": "code",
   "execution_count": 213,
   "metadata": {},
   "outputs": [
    {
     "data": {
      "text/plain": [
       "0.885888419178407"
      ]
     },
     "execution_count": 213,
     "metadata": {},
     "output_type": "execute_result"
    }
   ],
   "source": [
    "model.score(x_train,y_train)"
   ]
  },
  {
   "cell_type": "code",
   "execution_count": null,
   "metadata": {},
   "outputs": [],
   "source": []
  },
  {
   "cell_type": "code",
   "execution_count": null,
   "metadata": {},
   "outputs": [],
   "source": []
  }
 ],
 "metadata": {
  "kernelspec": {
   "display_name": "Python 3",
   "language": "python",
   "name": "python3"
  },
  "language_info": {
   "codemirror_mode": {
    "name": "ipython",
    "version": 3
   },
   "file_extension": ".py",
   "mimetype": "text/x-python",
   "name": "python",
   "nbconvert_exporter": "python",
   "pygments_lexer": "ipython3",
   "version": "3.7.6"
  }
 },
 "nbformat": 4,
 "nbformat_minor": 5
}
