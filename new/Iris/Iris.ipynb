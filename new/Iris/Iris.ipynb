{
 "cells": [
  {
   "cell_type": "code",
   "execution_count": 102,
   "metadata": {},
   "outputs": [],
   "source": [
    "\n",
    "import numpy as np # linear algebra\n",
    "from pandas import DataFrame\n",
    "from pandas import read_csv\n",
    "import seaborn as sns # visualization\n",
    "import matplotlib.pyplot as plt\n",
    "\n",
    "from sklearn.preprocessing import normalize\n",
    "from sklearn.preprocessing import StandardScaler\n",
    "\n",
    "from sklearn.model_selection import train_test_split\n",
    "\n",
    "from sklearn.linear_model import LinearRegression\n",
    "from sklearn.linear_model import LogisticRegression\n",
    "from sklearn.tree import DecisionTreeClassifier\n",
    "\n",
    "%matplotlib inline\n"
   ]
  },
  {
   "cell_type": "code",
   "execution_count": 103,
   "metadata": {},
   "outputs": [
    {
     "name": "stdout",
     "output_type": "stream",
     "text": [
      "iris.csv  Iris.ipynb\r\n"
     ]
    }
   ],
   "source": [
    "ls"
   ]
  },
  {
   "cell_type": "code",
   "execution_count": 104,
   "metadata": {},
   "outputs": [
    {
     "data": {
      "text/html": [
       "<div>\n",
       "<style scoped>\n",
       "    .dataframe tbody tr th:only-of-type {\n",
       "        vertical-align: middle;\n",
       "    }\n",
       "\n",
       "    .dataframe tbody tr th {\n",
       "        vertical-align: top;\n",
       "    }\n",
       "\n",
       "    .dataframe thead th {\n",
       "        text-align: right;\n",
       "    }\n",
       "</style>\n",
       "<table border=\"1\" class=\"dataframe\">\n",
       "  <thead>\n",
       "    <tr style=\"text-align: right;\">\n",
       "      <th></th>\n",
       "      <th>sepal_</th>\n",
       "      <th>sepal__</th>\n",
       "      <th>petal_</th>\n",
       "      <th>petal__</th>\n",
       "      <th>type</th>\n",
       "    </tr>\n",
       "  </thead>\n",
       "  <tbody>\n",
       "    <tr>\n",
       "      <th>0</th>\n",
       "      <td>5.1</td>\n",
       "      <td>3.5</td>\n",
       "      <td>1.4</td>\n",
       "      <td>0.2</td>\n",
       "      <td>Setosa</td>\n",
       "    </tr>\n",
       "    <tr>\n",
       "      <th>1</th>\n",
       "      <td>4.9</td>\n",
       "      <td>3.0</td>\n",
       "      <td>1.4</td>\n",
       "      <td>0.2</td>\n",
       "      <td>Setosa</td>\n",
       "    </tr>\n",
       "    <tr>\n",
       "      <th>2</th>\n",
       "      <td>4.7</td>\n",
       "      <td>3.2</td>\n",
       "      <td>1.3</td>\n",
       "      <td>0.2</td>\n",
       "      <td>Setosa</td>\n",
       "    </tr>\n",
       "    <tr>\n",
       "      <th>3</th>\n",
       "      <td>4.6</td>\n",
       "      <td>3.1</td>\n",
       "      <td>1.5</td>\n",
       "      <td>0.2</td>\n",
       "      <td>Setosa</td>\n",
       "    </tr>\n",
       "    <tr>\n",
       "      <th>4</th>\n",
       "      <td>5.0</td>\n",
       "      <td>3.6</td>\n",
       "      <td>1.4</td>\n",
       "      <td>0.2</td>\n",
       "      <td>Setosa</td>\n",
       "    </tr>\n",
       "  </tbody>\n",
       "</table>\n",
       "</div>"
      ],
      "text/plain": [
       "   sepal_  sepal__  petal_  petal__    type\n",
       "0     5.1      3.5     1.4      0.2  Setosa\n",
       "1     4.9      3.0     1.4      0.2  Setosa\n",
       "2     4.7      3.2     1.3      0.2  Setosa\n",
       "3     4.6      3.1     1.5      0.2  Setosa\n",
       "4     5.0      3.6     1.4      0.2  Setosa"
      ]
     },
     "execution_count": 104,
     "metadata": {},
     "output_type": "execute_result"
    }
   ],
   "source": [
    "# load iris database\n",
    "df = read_csv('iris.csv')\n",
    "df.columns=['sepal_', 'sepal__', 'petal_', 'petal__', 'type']\n",
    "types_names=df['type'].unique()\n",
    "df.head()"
   ]
  },
  {
   "cell_type": "code",
   "execution_count": null,
   "metadata": {},
   "outputs": [],
   "source": []
  },
  {
   "cell_type": "code",
   "execution_count": null,
   "metadata": {},
   "outputs": [],
   "source": []
  },
  {
   "cell_type": "code",
   "execution_count": 105,
   "metadata": {
    "scrolled": false
   },
   "outputs": [],
   "source": [
    "# sns.pairplot( data=iris, \n",
    "#              vars=iris.columns[:-1])"
   ]
  },
  {
   "cell_type": "code",
   "execution_count": null,
   "metadata": {},
   "outputs": [],
   "source": []
  },
  {
   "cell_type": "code",
   "execution_count": null,
   "metadata": {},
   "outputs": [],
   "source": []
  },
  {
   "cell_type": "code",
   "execution_count": 106,
   "metadata": {},
   "outputs": [],
   "source": [
    "class Utils:\n",
    "    \n",
    "    def simple_encoder(value, series):\n",
    "        return [index for index , element in enumerate(series.unique()\n",
    "                                                      ) if str(element)==str(value) ]\n",
    "\n",
    "    def multy_encoder(values, series):\n",
    "        array=np.array([Utils.simple_encoder(value=value,\n",
    "                                             series=df['type']) for value in values])\n",
    "        array.shape=(len(array),)\n",
    "        return array\n",
    "    \n",
    "    def Relu(series, clf='number_to_str'):\n",
    "        return series.replace( range(len(types_names)), types_names) if clf=='number_to_str' else series.replace(types_names, range(len(types_names))) \n",
    "\n",
    "    \n",
    "    def normalize(df):\n",
    "        return df[columns[:-1]].apply(\n",
    "            lambda series: (series - series.min()\n",
    "                    ) / (series.max() - series.min()))"
   ]
  },
  {
   "cell_type": "code",
   "execution_count": null,
   "metadata": {},
   "outputs": [],
   "source": []
  },
  {
   "cell_type": "code",
   "execution_count": 107,
   "metadata": {},
   "outputs": [
    {
     "data": {
      "text/html": [
       "<div>\n",
       "<style scoped>\n",
       "    .dataframe tbody tr th:only-of-type {\n",
       "        vertical-align: middle;\n",
       "    }\n",
       "\n",
       "    .dataframe tbody tr th {\n",
       "        vertical-align: top;\n",
       "    }\n",
       "\n",
       "    .dataframe thead th {\n",
       "        text-align: right;\n",
       "    }\n",
       "</style>\n",
       "<table border=\"1\" class=\"dataframe\">\n",
       "  <thead>\n",
       "    <tr style=\"text-align: right;\">\n",
       "      <th></th>\n",
       "      <th>sepal_</th>\n",
       "      <th>sepal__</th>\n",
       "      <th>petal_</th>\n",
       "      <th>petal__</th>\n",
       "      <th>type</th>\n",
       "    </tr>\n",
       "  </thead>\n",
       "  <tbody>\n",
       "    <tr>\n",
       "      <th>0</th>\n",
       "      <td>5.1</td>\n",
       "      <td>3.5</td>\n",
       "      <td>1.4</td>\n",
       "      <td>0.2</td>\n",
       "      <td>Setosa</td>\n",
       "    </tr>\n",
       "    <tr>\n",
       "      <th>1</th>\n",
       "      <td>4.9</td>\n",
       "      <td>3.0</td>\n",
       "      <td>1.4</td>\n",
       "      <td>0.2</td>\n",
       "      <td>Setosa</td>\n",
       "    </tr>\n",
       "    <tr>\n",
       "      <th>2</th>\n",
       "      <td>4.7</td>\n",
       "      <td>3.2</td>\n",
       "      <td>1.3</td>\n",
       "      <td>0.2</td>\n",
       "      <td>Setosa</td>\n",
       "    </tr>\n",
       "    <tr>\n",
       "      <th>3</th>\n",
       "      <td>4.6</td>\n",
       "      <td>3.1</td>\n",
       "      <td>1.5</td>\n",
       "      <td>0.2</td>\n",
       "      <td>Setosa</td>\n",
       "    </tr>\n",
       "    <tr>\n",
       "      <th>4</th>\n",
       "      <td>5.0</td>\n",
       "      <td>3.6</td>\n",
       "      <td>1.4</td>\n",
       "      <td>0.2</td>\n",
       "      <td>Setosa</td>\n",
       "    </tr>\n",
       "    <tr>\n",
       "      <th>...</th>\n",
       "      <td>...</td>\n",
       "      <td>...</td>\n",
       "      <td>...</td>\n",
       "      <td>...</td>\n",
       "      <td>...</td>\n",
       "    </tr>\n",
       "    <tr>\n",
       "      <th>145</th>\n",
       "      <td>6.7</td>\n",
       "      <td>3.0</td>\n",
       "      <td>5.2</td>\n",
       "      <td>2.3</td>\n",
       "      <td>Virginica</td>\n",
       "    </tr>\n",
       "    <tr>\n",
       "      <th>146</th>\n",
       "      <td>6.3</td>\n",
       "      <td>2.5</td>\n",
       "      <td>5.0</td>\n",
       "      <td>1.9</td>\n",
       "      <td>Virginica</td>\n",
       "    </tr>\n",
       "    <tr>\n",
       "      <th>147</th>\n",
       "      <td>6.5</td>\n",
       "      <td>3.0</td>\n",
       "      <td>5.2</td>\n",
       "      <td>2.0</td>\n",
       "      <td>Virginica</td>\n",
       "    </tr>\n",
       "    <tr>\n",
       "      <th>148</th>\n",
       "      <td>6.2</td>\n",
       "      <td>3.4</td>\n",
       "      <td>5.4</td>\n",
       "      <td>2.3</td>\n",
       "      <td>Virginica</td>\n",
       "    </tr>\n",
       "    <tr>\n",
       "      <th>149</th>\n",
       "      <td>5.9</td>\n",
       "      <td>3.0</td>\n",
       "      <td>5.1</td>\n",
       "      <td>1.8</td>\n",
       "      <td>Virginica</td>\n",
       "    </tr>\n",
       "  </tbody>\n",
       "</table>\n",
       "<p>150 rows × 5 columns</p>\n",
       "</div>"
      ],
      "text/plain": [
       "     sepal_  sepal__  petal_  petal__       type\n",
       "0       5.1      3.5     1.4      0.2     Setosa\n",
       "1       4.9      3.0     1.4      0.2     Setosa\n",
       "2       4.7      3.2     1.3      0.2     Setosa\n",
       "3       4.6      3.1     1.5      0.2     Setosa\n",
       "4       5.0      3.6     1.4      0.2     Setosa\n",
       "..      ...      ...     ...      ...        ...\n",
       "145     6.7      3.0     5.2      2.3  Virginica\n",
       "146     6.3      2.5     5.0      1.9  Virginica\n",
       "147     6.5      3.0     5.2      2.0  Virginica\n",
       "148     6.2      3.4     5.4      2.3  Virginica\n",
       "149     5.9      3.0     5.1      1.8  Virginica\n",
       "\n",
       "[150 rows x 5 columns]"
      ]
     },
     "execution_count": 107,
     "metadata": {},
     "output_type": "execute_result"
    }
   ],
   "source": [
    "df"
   ]
  },
  {
   "cell_type": "code",
   "execution_count": null,
   "metadata": {},
   "outputs": [],
   "source": []
  },
  {
   "cell_type": "code",
   "execution_count": 108,
   "metadata": {
    "scrolled": true
   },
   "outputs": [],
   "source": [
    "df['type']=Utils.multy_encoder(values=df['type'], series=df['type'])"
   ]
  },
  {
   "cell_type": "code",
   "execution_count": 109,
   "metadata": {},
   "outputs": [
    {
     "data": {
      "text/html": [
       "<div>\n",
       "<style scoped>\n",
       "    .dataframe tbody tr th:only-of-type {\n",
       "        vertical-align: middle;\n",
       "    }\n",
       "\n",
       "    .dataframe tbody tr th {\n",
       "        vertical-align: top;\n",
       "    }\n",
       "\n",
       "    .dataframe thead th {\n",
       "        text-align: right;\n",
       "    }\n",
       "</style>\n",
       "<table border=\"1\" class=\"dataframe\">\n",
       "  <thead>\n",
       "    <tr style=\"text-align: right;\">\n",
       "      <th></th>\n",
       "      <th>sepal_</th>\n",
       "      <th>sepal__</th>\n",
       "      <th>petal_</th>\n",
       "      <th>petal__</th>\n",
       "      <th>type</th>\n",
       "    </tr>\n",
       "  </thead>\n",
       "  <tbody>\n",
       "    <tr>\n",
       "      <th>0</th>\n",
       "      <td>5.1</td>\n",
       "      <td>3.5</td>\n",
       "      <td>1.4</td>\n",
       "      <td>0.2</td>\n",
       "      <td>0</td>\n",
       "    </tr>\n",
       "    <tr>\n",
       "      <th>1</th>\n",
       "      <td>4.9</td>\n",
       "      <td>3.0</td>\n",
       "      <td>1.4</td>\n",
       "      <td>0.2</td>\n",
       "      <td>0</td>\n",
       "    </tr>\n",
       "    <tr>\n",
       "      <th>2</th>\n",
       "      <td>4.7</td>\n",
       "      <td>3.2</td>\n",
       "      <td>1.3</td>\n",
       "      <td>0.2</td>\n",
       "      <td>0</td>\n",
       "    </tr>\n",
       "    <tr>\n",
       "      <th>3</th>\n",
       "      <td>4.6</td>\n",
       "      <td>3.1</td>\n",
       "      <td>1.5</td>\n",
       "      <td>0.2</td>\n",
       "      <td>0</td>\n",
       "    </tr>\n",
       "    <tr>\n",
       "      <th>4</th>\n",
       "      <td>5.0</td>\n",
       "      <td>3.6</td>\n",
       "      <td>1.4</td>\n",
       "      <td>0.2</td>\n",
       "      <td>0</td>\n",
       "    </tr>\n",
       "    <tr>\n",
       "      <th>...</th>\n",
       "      <td>...</td>\n",
       "      <td>...</td>\n",
       "      <td>...</td>\n",
       "      <td>...</td>\n",
       "      <td>...</td>\n",
       "    </tr>\n",
       "    <tr>\n",
       "      <th>145</th>\n",
       "      <td>6.7</td>\n",
       "      <td>3.0</td>\n",
       "      <td>5.2</td>\n",
       "      <td>2.3</td>\n",
       "      <td>2</td>\n",
       "    </tr>\n",
       "    <tr>\n",
       "      <th>146</th>\n",
       "      <td>6.3</td>\n",
       "      <td>2.5</td>\n",
       "      <td>5.0</td>\n",
       "      <td>1.9</td>\n",
       "      <td>2</td>\n",
       "    </tr>\n",
       "    <tr>\n",
       "      <th>147</th>\n",
       "      <td>6.5</td>\n",
       "      <td>3.0</td>\n",
       "      <td>5.2</td>\n",
       "      <td>2.0</td>\n",
       "      <td>2</td>\n",
       "    </tr>\n",
       "    <tr>\n",
       "      <th>148</th>\n",
       "      <td>6.2</td>\n",
       "      <td>3.4</td>\n",
       "      <td>5.4</td>\n",
       "      <td>2.3</td>\n",
       "      <td>2</td>\n",
       "    </tr>\n",
       "    <tr>\n",
       "      <th>149</th>\n",
       "      <td>5.9</td>\n",
       "      <td>3.0</td>\n",
       "      <td>5.1</td>\n",
       "      <td>1.8</td>\n",
       "      <td>2</td>\n",
       "    </tr>\n",
       "  </tbody>\n",
       "</table>\n",
       "<p>150 rows × 5 columns</p>\n",
       "</div>"
      ],
      "text/plain": [
       "     sepal_  sepal__  petal_  petal__  type\n",
       "0       5.1      3.5     1.4      0.2     0\n",
       "1       4.9      3.0     1.4      0.2     0\n",
       "2       4.7      3.2     1.3      0.2     0\n",
       "3       4.6      3.1     1.5      0.2     0\n",
       "4       5.0      3.6     1.4      0.2     0\n",
       "..      ...      ...     ...      ...   ...\n",
       "145     6.7      3.0     5.2      2.3     2\n",
       "146     6.3      2.5     5.0      1.9     2\n",
       "147     6.5      3.0     5.2      2.0     2\n",
       "148     6.2      3.4     5.4      2.3     2\n",
       "149     5.9      3.0     5.1      1.8     2\n",
       "\n",
       "[150 rows x 5 columns]"
      ]
     },
     "execution_count": 109,
     "metadata": {},
     "output_type": "execute_result"
    }
   ],
   "source": [
    "df"
   ]
  },
  {
   "cell_type": "code",
   "execution_count": 110,
   "metadata": {},
   "outputs": [
    {
     "data": {
      "text/html": [
       "<div>\n",
       "<style scoped>\n",
       "    .dataframe tbody tr th:only-of-type {\n",
       "        vertical-align: middle;\n",
       "    }\n",
       "\n",
       "    .dataframe tbody tr th {\n",
       "        vertical-align: top;\n",
       "    }\n",
       "\n",
       "    .dataframe thead th {\n",
       "        text-align: right;\n",
       "    }\n",
       "</style>\n",
       "<table border=\"1\" class=\"dataframe\">\n",
       "  <thead>\n",
       "    <tr style=\"text-align: right;\">\n",
       "      <th></th>\n",
       "      <th>sepal_</th>\n",
       "      <th>sepal__</th>\n",
       "      <th>petal_</th>\n",
       "      <th>petal__</th>\n",
       "      <th>type</th>\n",
       "    </tr>\n",
       "  </thead>\n",
       "  <tbody>\n",
       "    <tr>\n",
       "      <th>count</th>\n",
       "      <td>150.000000</td>\n",
       "      <td>150.000000</td>\n",
       "      <td>150.000000</td>\n",
       "      <td>150.000000</td>\n",
       "      <td>150.000000</td>\n",
       "    </tr>\n",
       "    <tr>\n",
       "      <th>mean</th>\n",
       "      <td>5.843333</td>\n",
       "      <td>3.057333</td>\n",
       "      <td>3.758000</td>\n",
       "      <td>1.199333</td>\n",
       "      <td>1.000000</td>\n",
       "    </tr>\n",
       "    <tr>\n",
       "      <th>std</th>\n",
       "      <td>0.828066</td>\n",
       "      <td>0.435866</td>\n",
       "      <td>1.765298</td>\n",
       "      <td>0.762238</td>\n",
       "      <td>0.819232</td>\n",
       "    </tr>\n",
       "    <tr>\n",
       "      <th>min</th>\n",
       "      <td>4.300000</td>\n",
       "      <td>2.000000</td>\n",
       "      <td>1.000000</td>\n",
       "      <td>0.100000</td>\n",
       "      <td>0.000000</td>\n",
       "    </tr>\n",
       "    <tr>\n",
       "      <th>25%</th>\n",
       "      <td>5.100000</td>\n",
       "      <td>2.800000</td>\n",
       "      <td>1.600000</td>\n",
       "      <td>0.300000</td>\n",
       "      <td>0.000000</td>\n",
       "    </tr>\n",
       "    <tr>\n",
       "      <th>50%</th>\n",
       "      <td>5.800000</td>\n",
       "      <td>3.000000</td>\n",
       "      <td>4.350000</td>\n",
       "      <td>1.300000</td>\n",
       "      <td>1.000000</td>\n",
       "    </tr>\n",
       "    <tr>\n",
       "      <th>75%</th>\n",
       "      <td>6.400000</td>\n",
       "      <td>3.300000</td>\n",
       "      <td>5.100000</td>\n",
       "      <td>1.800000</td>\n",
       "      <td>2.000000</td>\n",
       "    </tr>\n",
       "    <tr>\n",
       "      <th>max</th>\n",
       "      <td>7.900000</td>\n",
       "      <td>4.400000</td>\n",
       "      <td>6.900000</td>\n",
       "      <td>2.500000</td>\n",
       "      <td>2.000000</td>\n",
       "    </tr>\n",
       "  </tbody>\n",
       "</table>\n",
       "</div>"
      ],
      "text/plain": [
       "           sepal_     sepal__      petal_     petal__        type\n",
       "count  150.000000  150.000000  150.000000  150.000000  150.000000\n",
       "mean     5.843333    3.057333    3.758000    1.199333    1.000000\n",
       "std      0.828066    0.435866    1.765298    0.762238    0.819232\n",
       "min      4.300000    2.000000    1.000000    0.100000    0.000000\n",
       "25%      5.100000    2.800000    1.600000    0.300000    0.000000\n",
       "50%      5.800000    3.000000    4.350000    1.300000    1.000000\n",
       "75%      6.400000    3.300000    5.100000    1.800000    2.000000\n",
       "max      7.900000    4.400000    6.900000    2.500000    2.000000"
      ]
     },
     "execution_count": 110,
     "metadata": {},
     "output_type": "execute_result"
    }
   ],
   "source": [
    "df.describe()"
   ]
  },
  {
   "cell_type": "code",
   "execution_count": null,
   "metadata": {},
   "outputs": [],
   "source": []
  },
  {
   "cell_type": "code",
   "execution_count": null,
   "metadata": {},
   "outputs": [],
   "source": []
  },
  {
   "cell_type": "code",
   "execution_count": null,
   "metadata": {},
   "outputs": [],
   "source": []
  },
  {
   "cell_type": "code",
   "execution_count": null,
   "metadata": {},
   "outputs": [],
   "source": []
  },
  {
   "cell_type": "code",
   "execution_count": 111,
   "metadata": {
    "scrolled": true
   },
   "outputs": [],
   "source": [
    "series=Utils.Relu(series=df['type'], clf='number_to_str')"
   ]
  },
  {
   "cell_type": "code",
   "execution_count": 112,
   "metadata": {},
   "outputs": [
    {
     "data": {
      "text/plain": [
       "0         Setosa\n",
       "1         Setosa\n",
       "2         Setosa\n",
       "3         Setosa\n",
       "4         Setosa\n",
       "         ...    \n",
       "145    Virginica\n",
       "146    Virginica\n",
       "147    Virginica\n",
       "148    Virginica\n",
       "149    Virginica\n",
       "Name: type, Length: 150, dtype: object"
      ]
     },
     "execution_count": 112,
     "metadata": {},
     "output_type": "execute_result"
    }
   ],
   "source": [
    "series"
   ]
  },
  {
   "cell_type": "code",
   "execution_count": null,
   "metadata": {},
   "outputs": [],
   "source": []
  },
  {
   "cell_type": "code",
   "execution_count": 113,
   "metadata": {},
   "outputs": [
    {
     "data": {
      "text/html": [
       "<div>\n",
       "<style scoped>\n",
       "    .dataframe tbody tr th:only-of-type {\n",
       "        vertical-align: middle;\n",
       "    }\n",
       "\n",
       "    .dataframe tbody tr th {\n",
       "        vertical-align: top;\n",
       "    }\n",
       "\n",
       "    .dataframe thead th {\n",
       "        text-align: right;\n",
       "    }\n",
       "</style>\n",
       "<table border=\"1\" class=\"dataframe\">\n",
       "  <thead>\n",
       "    <tr style=\"text-align: right;\">\n",
       "      <th></th>\n",
       "      <th>sepal_</th>\n",
       "      <th>sepal__</th>\n",
       "      <th>petal_</th>\n",
       "      <th>petal__</th>\n",
       "      <th>type</th>\n",
       "    </tr>\n",
       "  </thead>\n",
       "  <tbody>\n",
       "    <tr>\n",
       "      <th>0</th>\n",
       "      <td>5.1</td>\n",
       "      <td>3.5</td>\n",
       "      <td>1.4</td>\n",
       "      <td>0.2</td>\n",
       "      <td>0</td>\n",
       "    </tr>\n",
       "    <tr>\n",
       "      <th>1</th>\n",
       "      <td>4.9</td>\n",
       "      <td>3.0</td>\n",
       "      <td>1.4</td>\n",
       "      <td>0.2</td>\n",
       "      <td>0</td>\n",
       "    </tr>\n",
       "    <tr>\n",
       "      <th>2</th>\n",
       "      <td>4.7</td>\n",
       "      <td>3.2</td>\n",
       "      <td>1.3</td>\n",
       "      <td>0.2</td>\n",
       "      <td>0</td>\n",
       "    </tr>\n",
       "    <tr>\n",
       "      <th>3</th>\n",
       "      <td>4.6</td>\n",
       "      <td>3.1</td>\n",
       "      <td>1.5</td>\n",
       "      <td>0.2</td>\n",
       "      <td>0</td>\n",
       "    </tr>\n",
       "    <tr>\n",
       "      <th>4</th>\n",
       "      <td>5.0</td>\n",
       "      <td>3.6</td>\n",
       "      <td>1.4</td>\n",
       "      <td>0.2</td>\n",
       "      <td>0</td>\n",
       "    </tr>\n",
       "    <tr>\n",
       "      <th>...</th>\n",
       "      <td>...</td>\n",
       "      <td>...</td>\n",
       "      <td>...</td>\n",
       "      <td>...</td>\n",
       "      <td>...</td>\n",
       "    </tr>\n",
       "    <tr>\n",
       "      <th>145</th>\n",
       "      <td>6.7</td>\n",
       "      <td>3.0</td>\n",
       "      <td>5.2</td>\n",
       "      <td>2.3</td>\n",
       "      <td>2</td>\n",
       "    </tr>\n",
       "    <tr>\n",
       "      <th>146</th>\n",
       "      <td>6.3</td>\n",
       "      <td>2.5</td>\n",
       "      <td>5.0</td>\n",
       "      <td>1.9</td>\n",
       "      <td>2</td>\n",
       "    </tr>\n",
       "    <tr>\n",
       "      <th>147</th>\n",
       "      <td>6.5</td>\n",
       "      <td>3.0</td>\n",
       "      <td>5.2</td>\n",
       "      <td>2.0</td>\n",
       "      <td>2</td>\n",
       "    </tr>\n",
       "    <tr>\n",
       "      <th>148</th>\n",
       "      <td>6.2</td>\n",
       "      <td>3.4</td>\n",
       "      <td>5.4</td>\n",
       "      <td>2.3</td>\n",
       "      <td>2</td>\n",
       "    </tr>\n",
       "    <tr>\n",
       "      <th>149</th>\n",
       "      <td>5.9</td>\n",
       "      <td>3.0</td>\n",
       "      <td>5.1</td>\n",
       "      <td>1.8</td>\n",
       "      <td>2</td>\n",
       "    </tr>\n",
       "  </tbody>\n",
       "</table>\n",
       "<p>150 rows × 5 columns</p>\n",
       "</div>"
      ],
      "text/plain": [
       "     sepal_  sepal__  petal_  petal__  type\n",
       "0       5.1      3.5     1.4      0.2     0\n",
       "1       4.9      3.0     1.4      0.2     0\n",
       "2       4.7      3.2     1.3      0.2     0\n",
       "3       4.6      3.1     1.5      0.2     0\n",
       "4       5.0      3.6     1.4      0.2     0\n",
       "..      ...      ...     ...      ...   ...\n",
       "145     6.7      3.0     5.2      2.3     2\n",
       "146     6.3      2.5     5.0      1.9     2\n",
       "147     6.5      3.0     5.2      2.0     2\n",
       "148     6.2      3.4     5.4      2.3     2\n",
       "149     5.9      3.0     5.1      1.8     2\n",
       "\n",
       "[150 rows x 5 columns]"
      ]
     },
     "execution_count": 113,
     "metadata": {},
     "output_type": "execute_result"
    }
   ],
   "source": [
    "df"
   ]
  },
  {
   "cell_type": "code",
   "execution_count": 114,
   "metadata": {},
   "outputs": [],
   "source": [
    "x,y=df.iloc[:, :-1],df.iloc[:, -1]"
   ]
  },
  {
   "cell_type": "code",
   "execution_count": 115,
   "metadata": {},
   "outputs": [
    {
     "data": {
      "text/html": [
       "<div>\n",
       "<style scoped>\n",
       "    .dataframe tbody tr th:only-of-type {\n",
       "        vertical-align: middle;\n",
       "    }\n",
       "\n",
       "    .dataframe tbody tr th {\n",
       "        vertical-align: top;\n",
       "    }\n",
       "\n",
       "    .dataframe thead th {\n",
       "        text-align: right;\n",
       "    }\n",
       "</style>\n",
       "<table border=\"1\" class=\"dataframe\">\n",
       "  <thead>\n",
       "    <tr style=\"text-align: right;\">\n",
       "      <th></th>\n",
       "      <th>sepal_</th>\n",
       "      <th>sepal__</th>\n",
       "      <th>petal_</th>\n",
       "      <th>petal__</th>\n",
       "    </tr>\n",
       "  </thead>\n",
       "  <tbody>\n",
       "    <tr>\n",
       "      <th>0</th>\n",
       "      <td>5.1</td>\n",
       "      <td>3.5</td>\n",
       "      <td>1.4</td>\n",
       "      <td>0.2</td>\n",
       "    </tr>\n",
       "    <tr>\n",
       "      <th>1</th>\n",
       "      <td>4.9</td>\n",
       "      <td>3.0</td>\n",
       "      <td>1.4</td>\n",
       "      <td>0.2</td>\n",
       "    </tr>\n",
       "    <tr>\n",
       "      <th>2</th>\n",
       "      <td>4.7</td>\n",
       "      <td>3.2</td>\n",
       "      <td>1.3</td>\n",
       "      <td>0.2</td>\n",
       "    </tr>\n",
       "    <tr>\n",
       "      <th>3</th>\n",
       "      <td>4.6</td>\n",
       "      <td>3.1</td>\n",
       "      <td>1.5</td>\n",
       "      <td>0.2</td>\n",
       "    </tr>\n",
       "    <tr>\n",
       "      <th>4</th>\n",
       "      <td>5.0</td>\n",
       "      <td>3.6</td>\n",
       "      <td>1.4</td>\n",
       "      <td>0.2</td>\n",
       "    </tr>\n",
       "    <tr>\n",
       "      <th>...</th>\n",
       "      <td>...</td>\n",
       "      <td>...</td>\n",
       "      <td>...</td>\n",
       "      <td>...</td>\n",
       "    </tr>\n",
       "    <tr>\n",
       "      <th>145</th>\n",
       "      <td>6.7</td>\n",
       "      <td>3.0</td>\n",
       "      <td>5.2</td>\n",
       "      <td>2.3</td>\n",
       "    </tr>\n",
       "    <tr>\n",
       "      <th>146</th>\n",
       "      <td>6.3</td>\n",
       "      <td>2.5</td>\n",
       "      <td>5.0</td>\n",
       "      <td>1.9</td>\n",
       "    </tr>\n",
       "    <tr>\n",
       "      <th>147</th>\n",
       "      <td>6.5</td>\n",
       "      <td>3.0</td>\n",
       "      <td>5.2</td>\n",
       "      <td>2.0</td>\n",
       "    </tr>\n",
       "    <tr>\n",
       "      <th>148</th>\n",
       "      <td>6.2</td>\n",
       "      <td>3.4</td>\n",
       "      <td>5.4</td>\n",
       "      <td>2.3</td>\n",
       "    </tr>\n",
       "    <tr>\n",
       "      <th>149</th>\n",
       "      <td>5.9</td>\n",
       "      <td>3.0</td>\n",
       "      <td>5.1</td>\n",
       "      <td>1.8</td>\n",
       "    </tr>\n",
       "  </tbody>\n",
       "</table>\n",
       "<p>150 rows × 4 columns</p>\n",
       "</div>"
      ],
      "text/plain": [
       "     sepal_  sepal__  petal_  petal__\n",
       "0       5.1      3.5     1.4      0.2\n",
       "1       4.9      3.0     1.4      0.2\n",
       "2       4.7      3.2     1.3      0.2\n",
       "3       4.6      3.1     1.5      0.2\n",
       "4       5.0      3.6     1.4      0.2\n",
       "..      ...      ...     ...      ...\n",
       "145     6.7      3.0     5.2      2.3\n",
       "146     6.3      2.5     5.0      1.9\n",
       "147     6.5      3.0     5.2      2.0\n",
       "148     6.2      3.4     5.4      2.3\n",
       "149     5.9      3.0     5.1      1.8\n",
       "\n",
       "[150 rows x 4 columns]"
      ]
     },
     "execution_count": 115,
     "metadata": {},
     "output_type": "execute_result"
    }
   ],
   "source": [
    "x"
   ]
  },
  {
   "cell_type": "code",
   "execution_count": 165,
   "metadata": {},
   "outputs": [],
   "source": [
    "scaller=StandardScaler()\n",
    "x=DataFrame(scaller.fit_transform(x))"
   ]
  },
  {
   "cell_type": "code",
   "execution_count": 166,
   "metadata": {},
   "outputs": [
    {
     "data": {
      "text/html": [
       "<div>\n",
       "<style scoped>\n",
       "    .dataframe tbody tr th:only-of-type {\n",
       "        vertical-align: middle;\n",
       "    }\n",
       "\n",
       "    .dataframe tbody tr th {\n",
       "        vertical-align: top;\n",
       "    }\n",
       "\n",
       "    .dataframe thead th {\n",
       "        text-align: right;\n",
       "    }\n",
       "</style>\n",
       "<table border=\"1\" class=\"dataframe\">\n",
       "  <thead>\n",
       "    <tr style=\"text-align: right;\">\n",
       "      <th></th>\n",
       "      <th>0</th>\n",
       "      <th>1</th>\n",
       "      <th>2</th>\n",
       "      <th>3</th>\n",
       "    </tr>\n",
       "  </thead>\n",
       "  <tbody>\n",
       "    <tr>\n",
       "      <th>0</th>\n",
       "      <td>-0.900681</td>\n",
       "      <td>1.019004</td>\n",
       "      <td>-1.340227</td>\n",
       "      <td>-1.315444</td>\n",
       "    </tr>\n",
       "    <tr>\n",
       "      <th>1</th>\n",
       "      <td>-1.143017</td>\n",
       "      <td>-0.131979</td>\n",
       "      <td>-1.340227</td>\n",
       "      <td>-1.315444</td>\n",
       "    </tr>\n",
       "    <tr>\n",
       "      <th>2</th>\n",
       "      <td>-1.385353</td>\n",
       "      <td>0.328414</td>\n",
       "      <td>-1.397064</td>\n",
       "      <td>-1.315444</td>\n",
       "    </tr>\n",
       "    <tr>\n",
       "      <th>3</th>\n",
       "      <td>-1.506521</td>\n",
       "      <td>0.098217</td>\n",
       "      <td>-1.283389</td>\n",
       "      <td>-1.315444</td>\n",
       "    </tr>\n",
       "    <tr>\n",
       "      <th>4</th>\n",
       "      <td>-1.021849</td>\n",
       "      <td>1.249201</td>\n",
       "      <td>-1.340227</td>\n",
       "      <td>-1.315444</td>\n",
       "    </tr>\n",
       "    <tr>\n",
       "      <th>...</th>\n",
       "      <td>...</td>\n",
       "      <td>...</td>\n",
       "      <td>...</td>\n",
       "      <td>...</td>\n",
       "    </tr>\n",
       "    <tr>\n",
       "      <th>145</th>\n",
       "      <td>1.038005</td>\n",
       "      <td>-0.131979</td>\n",
       "      <td>0.819596</td>\n",
       "      <td>1.448832</td>\n",
       "    </tr>\n",
       "    <tr>\n",
       "      <th>146</th>\n",
       "      <td>0.553333</td>\n",
       "      <td>-1.282963</td>\n",
       "      <td>0.705921</td>\n",
       "      <td>0.922303</td>\n",
       "    </tr>\n",
       "    <tr>\n",
       "      <th>147</th>\n",
       "      <td>0.795669</td>\n",
       "      <td>-0.131979</td>\n",
       "      <td>0.819596</td>\n",
       "      <td>1.053935</td>\n",
       "    </tr>\n",
       "    <tr>\n",
       "      <th>148</th>\n",
       "      <td>0.432165</td>\n",
       "      <td>0.788808</td>\n",
       "      <td>0.933271</td>\n",
       "      <td>1.448832</td>\n",
       "    </tr>\n",
       "    <tr>\n",
       "      <th>149</th>\n",
       "      <td>0.068662</td>\n",
       "      <td>-0.131979</td>\n",
       "      <td>0.762758</td>\n",
       "      <td>0.790671</td>\n",
       "    </tr>\n",
       "  </tbody>\n",
       "</table>\n",
       "<p>150 rows × 4 columns</p>\n",
       "</div>"
      ],
      "text/plain": [
       "            0         1         2         3\n",
       "0   -0.900681  1.019004 -1.340227 -1.315444\n",
       "1   -1.143017 -0.131979 -1.340227 -1.315444\n",
       "2   -1.385353  0.328414 -1.397064 -1.315444\n",
       "3   -1.506521  0.098217 -1.283389 -1.315444\n",
       "4   -1.021849  1.249201 -1.340227 -1.315444\n",
       "..        ...       ...       ...       ...\n",
       "145  1.038005 -0.131979  0.819596  1.448832\n",
       "146  0.553333 -1.282963  0.705921  0.922303\n",
       "147  0.795669 -0.131979  0.819596  1.053935\n",
       "148  0.432165  0.788808  0.933271  1.448832\n",
       "149  0.068662 -0.131979  0.762758  0.790671\n",
       "\n",
       "[150 rows x 4 columns]"
      ]
     },
     "execution_count": 166,
     "metadata": {},
     "output_type": "execute_result"
    }
   ],
   "source": [
    "x"
   ]
  },
  {
   "cell_type": "code",
   "execution_count": 167,
   "metadata": {},
   "outputs": [],
   "source": [
    "x_train,x_test,y_train,y_test=train_test_split(x,y,\n",
    "                                               test_size=0.2,\n",
    "                                               random_state=True)"
   ]
  },
  {
   "cell_type": "code",
   "execution_count": 168,
   "metadata": {},
   "outputs": [
    {
     "data": {
      "text/html": [
       "<div>\n",
       "<style scoped>\n",
       "    .dataframe tbody tr th:only-of-type {\n",
       "        vertical-align: middle;\n",
       "    }\n",
       "\n",
       "    .dataframe tbody tr th {\n",
       "        vertical-align: top;\n",
       "    }\n",
       "\n",
       "    .dataframe thead th {\n",
       "        text-align: right;\n",
       "    }\n",
       "</style>\n",
       "<table border=\"1\" class=\"dataframe\">\n",
       "  <thead>\n",
       "    <tr style=\"text-align: right;\">\n",
       "      <th></th>\n",
       "      <th>0</th>\n",
       "      <th>1</th>\n",
       "      <th>2</th>\n",
       "      <th>3</th>\n",
       "    </tr>\n",
       "  </thead>\n",
       "  <tbody>\n",
       "    <tr>\n",
       "      <th>91</th>\n",
       "      <td>0.310998</td>\n",
       "      <td>-0.131979</td>\n",
       "      <td>0.478571</td>\n",
       "      <td>0.264142</td>\n",
       "    </tr>\n",
       "    <tr>\n",
       "      <th>135</th>\n",
       "      <td>2.249683</td>\n",
       "      <td>-0.131979</td>\n",
       "      <td>1.331133</td>\n",
       "      <td>1.448832</td>\n",
       "    </tr>\n",
       "    <tr>\n",
       "      <th>69</th>\n",
       "      <td>-0.294842</td>\n",
       "      <td>-1.282963</td>\n",
       "      <td>0.080709</td>\n",
       "      <td>-0.130755</td>\n",
       "    </tr>\n",
       "    <tr>\n",
       "      <th>128</th>\n",
       "      <td>0.674501</td>\n",
       "      <td>-0.592373</td>\n",
       "      <td>1.046945</td>\n",
       "      <td>1.185567</td>\n",
       "    </tr>\n",
       "    <tr>\n",
       "      <th>114</th>\n",
       "      <td>-0.052506</td>\n",
       "      <td>-0.592373</td>\n",
       "      <td>0.762758</td>\n",
       "      <td>1.580464</td>\n",
       "    </tr>\n",
       "    <tr>\n",
       "      <th>...</th>\n",
       "      <td>...</td>\n",
       "      <td>...</td>\n",
       "      <td>...</td>\n",
       "      <td>...</td>\n",
       "    </tr>\n",
       "    <tr>\n",
       "      <th>133</th>\n",
       "      <td>0.553333</td>\n",
       "      <td>-0.592373</td>\n",
       "      <td>0.762758</td>\n",
       "      <td>0.395774</td>\n",
       "    </tr>\n",
       "    <tr>\n",
       "      <th>137</th>\n",
       "      <td>0.674501</td>\n",
       "      <td>0.098217</td>\n",
       "      <td>0.990108</td>\n",
       "      <td>0.790671</td>\n",
       "    </tr>\n",
       "    <tr>\n",
       "      <th>72</th>\n",
       "      <td>0.553333</td>\n",
       "      <td>-1.282963</td>\n",
       "      <td>0.649083</td>\n",
       "      <td>0.395774</td>\n",
       "    </tr>\n",
       "    <tr>\n",
       "      <th>140</th>\n",
       "      <td>1.038005</td>\n",
       "      <td>0.098217</td>\n",
       "      <td>1.046945</td>\n",
       "      <td>1.580464</td>\n",
       "    </tr>\n",
       "    <tr>\n",
       "      <th>37</th>\n",
       "      <td>-1.143017</td>\n",
       "      <td>1.249201</td>\n",
       "      <td>-1.340227</td>\n",
       "      <td>-1.447076</td>\n",
       "    </tr>\n",
       "  </tbody>\n",
       "</table>\n",
       "<p>120 rows × 4 columns</p>\n",
       "</div>"
      ],
      "text/plain": [
       "            0         1         2         3\n",
       "91   0.310998 -0.131979  0.478571  0.264142\n",
       "135  2.249683 -0.131979  1.331133  1.448832\n",
       "69  -0.294842 -1.282963  0.080709 -0.130755\n",
       "128  0.674501 -0.592373  1.046945  1.185567\n",
       "114 -0.052506 -0.592373  0.762758  1.580464\n",
       "..        ...       ...       ...       ...\n",
       "133  0.553333 -0.592373  0.762758  0.395774\n",
       "137  0.674501  0.098217  0.990108  0.790671\n",
       "72   0.553333 -1.282963  0.649083  0.395774\n",
       "140  1.038005  0.098217  1.046945  1.580464\n",
       "37  -1.143017  1.249201 -1.340227 -1.447076\n",
       "\n",
       "[120 rows x 4 columns]"
      ]
     },
     "execution_count": 168,
     "metadata": {},
     "output_type": "execute_result"
    }
   ],
   "source": [
    "x_train"
   ]
  },
  {
   "cell_type": "code",
   "execution_count": 169,
   "metadata": {
    "scrolled": true
   },
   "outputs": [
    {
     "data": {
      "text/plain": [
       "91     1\n",
       "135    2\n",
       "69     1\n",
       "128    2\n",
       "114    2\n",
       "      ..\n",
       "133    2\n",
       "137    2\n",
       "72     1\n",
       "140    2\n",
       "37     0\n",
       "Name: type, Length: 120, dtype: int64"
      ]
     },
     "execution_count": 169,
     "metadata": {},
     "output_type": "execute_result"
    }
   ],
   "source": [
    "y_train"
   ]
  },
  {
   "cell_type": "code",
   "execution_count": 170,
   "metadata": {},
   "outputs": [],
   "source": [
    "model_log=LogisticRegression()"
   ]
  },
  {
   "cell_type": "code",
   "execution_count": 178,
   "metadata": {},
   "outputs": [
    {
     "data": {
      "text/plain": [
       "LogisticRegression(C=1.0, class_weight=None, dual=False, fit_intercept=True,\n",
       "                   intercept_scaling=1, l1_ratio=None, max_iter=100,\n",
       "                   multi_class='auto', n_jobs=None, penalty='l2',\n",
       "                   random_state=None, solver='lbfgs', tol=0.0001, verbose=0,\n",
       "                   warm_start=False)"
      ]
     },
     "execution_count": 178,
     "metadata": {},
     "output_type": "execute_result"
    }
   ],
   "source": [
    "model_log.fit(x_train, y_train)"
   ]
  },
  {
   "cell_type": "code",
   "execution_count": 179,
   "metadata": {},
   "outputs": [
    {
     "data": {
      "text/plain": [
       "array([[-1.03183336,  1.03993813, -1.77610267, -1.65393917],\n",
       "       [ 0.65401126, -0.42197508, -0.36041633, -0.75607096],\n",
       "       [ 0.3778221 , -0.61796305,  2.136519  ,  2.41001014]])"
      ]
     },
     "execution_count": 179,
     "metadata": {},
     "output_type": "execute_result"
    }
   ],
   "source": [
    "model_log.coef_"
   ]
  },
  {
   "cell_type": "code",
   "execution_count": null,
   "metadata": {},
   "outputs": [],
   "source": []
  },
  {
   "cell_type": "markdown",
   "metadata": {},
   "source": [
    "# [120, 4]*[4,3]=[120:3]\n",
    "# [120:3]*[3,1]=[120:1]"
   ]
  },
  {
   "cell_type": "code",
   "execution_count": null,
   "metadata": {},
   "outputs": [],
   "source": []
  },
  {
   "cell_type": "code",
   "execution_count": null,
   "metadata": {},
   "outputs": [],
   "source": []
  },
  {
   "cell_type": "code",
   "execution_count": 180,
   "metadata": {
    "scrolled": true
   },
   "outputs": [
    {
     "data": {
      "text/plain": [
       "(120, 4)"
      ]
     },
     "execution_count": 180,
     "metadata": {},
     "output_type": "execute_result"
    }
   ],
   "source": [
    "x_train.shape"
   ]
  },
  {
   "cell_type": "code",
   "execution_count": 181,
   "metadata": {
    "scrolled": true
   },
   "outputs": [],
   "source": [
    "process=np.dot(x_train,model_log.coef_.T)"
   ]
  },
  {
   "cell_type": "code",
   "execution_count": 182,
   "metadata": {},
   "outputs": [
    {
     "data": {
      "text/plain": [
       "array([[-2.02670067,  1.66245116,  0.36424952],\n",
       "       [-7.50074271,  1.72738708,  5.77335563],\n",
       "       [-1.23874877,  2.19387767, -0.95512889],\n",
       "       [-5.41402906,  1.19294694,  4.22108212],\n",
       "       [-4.8122681 ,  0.52133189,  4.29093621],\n",
       "       [ 6.39119429,  2.17784735, -8.56904165],\n",
       "       [-2.12887687,  2.08937543,  0.03950144],\n",
       "       [ 5.89899726,  2.41049924, -8.3094965 ],\n",
       "       [-3.22329329,  2.07418309,  1.14911021],\n",
       "       [-6.05603873,  1.97969383,  4.0763449 ],\n",
       "       [-5.33439937,  1.33613808,  3.99826128],\n",
       "       [ 6.04570108,  2.13459351, -8.1802946 ],\n",
       "       [-4.43830683,  2.17884058,  2.25946625],\n",
       "       [-4.39647873,  1.3151343 ,  3.08134443],\n",
       "       [-2.6735047 ,  2.25533749,  0.41816721],\n",
       "       [-9.26589714,  1.95205519,  7.31384195],\n",
       "       [ 5.71087464,  2.25719712, -7.96807176],\n",
       "       [ 6.62782815,  2.05773433, -8.68556249],\n",
       "       [ 5.22382426,  2.38254455, -7.60636881],\n",
       "       [-0.91300266,  1.38405264, -0.47104999],\n",
       "       [ 5.92307321,  2.31076895, -8.23384216],\n",
       "       [ 5.86426161,  2.57158253, -8.43584414],\n",
       "       [-5.97360256,  0.92690115,  5.04670142],\n",
       "       [-5.11908492,  1.33873107,  3.78035384],\n",
       "       [-6.35337299,  1.96418987,  4.38918312],\n",
       "       [-5.63174068,  1.09342366,  4.53831702],\n",
       "       [-3.70325123,  1.49690754,  2.20634369],\n",
       "       [-1.27858819,  1.0160954 ,  0.26249279],\n",
       "       [-7.93208326,  2.09732068,  5.83476258],\n",
       "       [-0.68738079,  1.62645764, -0.93907685],\n",
       "       [ 6.19719926,  2.05254836, -8.24974761],\n",
       "       [-4.43361862,  1.15207686,  3.28154176],\n",
       "       [-4.16861578,  1.65280486,  2.51581093],\n",
       "       [ 5.65924751,  2.5815911 , -8.24083861],\n",
       "       [ 6.14629083,  2.22903321, -8.37532405],\n",
       "       [-5.47988316,  0.93742395,  4.54245921],\n",
       "       [ 6.43143594,  1.83550505, -8.266941  ],\n",
       "       [-3.2003945 ,  1.20290266,  1.99749184],\n",
       "       [-3.85903537,  1.08559185,  2.77344353],\n",
       "       [-2.33556238,  2.08175504,  0.25380733],\n",
       "       [-1.68672053,  1.65975356,  0.02696697],\n",
       "       [-5.56394785,  0.52641767,  5.03753018],\n",
       "       [-2.97442034,  1.14414264,  1.8302777 ],\n",
       "       [ 6.77968568,  1.90173462, -8.6814203 ],\n",
       "       [-2.34025764,  2.88130831, -0.54105066],\n",
       "       [-2.12060728,  2.15830259, -0.03769531],\n",
       "       [-4.30618933,  1.39697244,  2.90921689],\n",
       "       [-0.143973  ,  2.13511544, -1.99114245],\n",
       "       [-5.36669496,  0.14798165,  5.2187133 ],\n",
       "       [-1.65009608,  1.89510083, -0.24500475],\n",
       "       [ 6.26616924,  2.25709251, -8.52326175],\n",
       "       [ 5.45495213,  2.44369054, -7.89864267],\n",
       "       [ 7.69149255,  1.80957628, -9.50106883],\n",
       "       [-4.69310134,  0.92451076,  3.76859058],\n",
       "       [ 6.0425852 ,  2.18557235, -8.22815755],\n",
       "       [-3.56001559,  1.57314567,  1.98686991],\n",
       "       [-4.91514888,  1.55058619,  3.36456269],\n",
       "       [-3.1522426 ,  1.00344208,  2.14880052],\n",
       "       [ 6.03743855,  2.2928768 , -8.33031535],\n",
       "       [ 4.82864972,  2.06836616, -6.89701588],\n",
       "       [-0.99420467,  2.21664637, -1.2224417 ],\n",
       "       [ 5.67266375,  2.54321381, -8.21587756],\n",
       "       [-6.73360185,  2.08201932,  4.65158253],\n",
       "       [-1.87055718,  1.99981229, -0.12925511],\n",
       "       [-7.44503994,  1.74476279,  5.70027714],\n",
       "       [-5.34195025,  1.1193018 ,  4.22264845],\n",
       "       [-3.5328737 ,  2.6413961 ,  0.89147761],\n",
       "       [-3.96116163,  0.29355657,  3.66760506],\n",
       "       [-5.87469834,  0.54929099,  5.32540735],\n",
       "       [-0.41376313,  1.66773734, -1.25397421],\n",
       "       [ 7.1314036 ,  1.61582032, -8.74722392],\n",
       "       [-1.22772971,  2.0585701 , -0.83084039],\n",
       "       [ 4.02411576,  2.84525533, -6.86937108],\n",
       "       [-1.25216501,  2.23225495, -0.98008994],\n",
       "       [-3.30806963,  2.03829639,  1.26977324],\n",
       "       [ 5.5117259 ,  2.01199211, -7.52371802],\n",
       "       [-3.58255503,  2.37047154,  1.21208349],\n",
       "       [ 5.31569304,  1.71580827, -7.03150131],\n",
       "       [ 5.89435194,  1.99109295, -7.88544488],\n",
       "       [-4.50579652,  0.23230817,  4.27348834],\n",
       "       [-3.48947328,  0.80190495,  2.68756833],\n",
       "       [-5.69483825,  0.86087639,  4.83396186],\n",
       "       [ 5.90965697,  2.34914623, -8.2588032 ],\n",
       "       [ 6.20582114,  1.82031051, -8.02613165],\n",
       "       [-2.3706145 ,  0.87062289,  1.49999161],\n",
       "       [ 5.83002728,  2.20595509, -8.03598236],\n",
       "       [-3.96310036,  1.11608555,  2.84701481],\n",
       "       [ 5.47902807,  2.34396025, -7.82298832],\n",
       "       [-4.43876527,  1.25938131,  3.17938396],\n",
       "       [-2.27553781,  0.91911115,  1.35642666],\n",
       "       [ 6.17036678,  2.12930292, -8.2996697 ],\n",
       "       [-4.58904341,  0.66680661,  3.92223681],\n",
       "       [ 6.58722009,  2.24682075, -8.83404083],\n",
       "       [-0.67911826,  1.46817435, -0.78905609],\n",
       "       [ 5.7022457 ,  2.26222452, -7.96447021],\n",
       "       [-0.93350428,  2.35226336, -1.41875908],\n",
       "       [-1.06404239,  2.38555707, -1.32151468],\n",
       "       [ 6.26341271,  2.23411679, -8.49752949],\n",
       "       [ 5.31651084,  2.56131298, -7.87782381],\n",
       "       [ 0.22044245,  1.95873299, -2.17917544],\n",
       "       [ 7.53172478,  1.82269427, -9.35441906],\n",
       "       [-1.59056578,  1.48637813,  0.10418765],\n",
       "       [-2.36704017,  1.73910332,  0.62793686],\n",
       "       [ 6.04809826,  2.2315238 , -8.27962206],\n",
       "       [-2.85612132,  1.92077636,  0.93534496],\n",
       "       [-1.14448282,  1.62407167, -0.47958885],\n",
       "       [-4.18361141,  2.43975656,  1.74385484],\n",
       "       [-2.77409445,  2.16089779,  0.61319666],\n",
       "       [-3.96310036,  1.11608555,  2.84701481],\n",
       "       [ 5.34609984,  2.50753413, -7.85363397],\n",
       "       [ 4.98958757,  2.59958785, -7.58917543],\n",
       "       [-3.99375331,  1.84614899,  2.14760432],\n",
       "       [-1.6820752 ,  2.07915985, -0.39708464],\n",
       "       [-5.04878876,  2.08927964,  2.95950912],\n",
       "       [-0.50287538,  2.35744934, -1.85457396],\n",
       "       [-3.47798872,  1.8132671 ,  1.66472162],\n",
       "       [-3.94177389,  1.22058999,  2.72118389],\n",
       "       [-3.99426169,  2.14564927,  1.84861242],\n",
       "       [-5.7240679 ,  0.84070068,  4.88336723],\n",
       "       [ 6.97056483,  2.07801246, -9.04857729]])"
      ]
     },
     "execution_count": 182,
     "metadata": {},
     "output_type": "execute_result"
    }
   ],
   "source": [
    "process+model_log.intercept_"
   ]
  },
  {
   "cell_type": "code",
   "execution_count": null,
   "metadata": {},
   "outputs": [],
   "source": []
  },
  {
   "cell_type": "code",
   "execution_count": 183,
   "metadata": {},
   "outputs": [],
   "source": [
    "_process_=np.dot(process,model_log.intercept_)"
   ]
  },
  {
   "cell_type": "code",
   "execution_count": 184,
   "metadata": {},
   "outputs": [
    {
     "data": {
      "text/plain": [
       "array([[-1.74501426, -0.11310694,  1.8581212 ],\n",
       "       [-7.2190563 , -0.04817101,  7.26722731],\n",
       "       [-0.95706236,  0.41831957,  0.53874279],\n",
       "       [-5.13234264, -0.58261116,  5.7149538 ],\n",
       "       [-4.53058168, -1.25422621,  5.78480789],\n",
       "       [ 6.67288071,  0.40228926, -7.07516996],\n",
       "       [-1.84719045,  0.31381733,  1.53337312],\n",
       "       [ 6.18068368,  0.63494114, -6.81562482],\n",
       "       [-2.94160688,  0.29862499,  2.64298189],\n",
       "       [-5.77435231,  0.20413573,  5.57021658],\n",
       "       [-5.05271295, -0.43942002,  5.49213297],\n",
       "       [ 6.3273875 ,  0.35903541, -6.68642291],\n",
       "       [-4.15662041,  0.40328248,  3.75333794],\n",
       "       [-4.11479232, -0.4604238 ,  4.57521611],\n",
       "       [-2.39181828,  0.47977939,  1.91203889],\n",
       "       [-8.98421072,  0.17649709,  8.80771364],\n",
       "       [ 5.99256106,  0.48163902, -6.47420008],\n",
       "       [ 6.90951457,  0.28217624, -7.19169081],\n",
       "       [ 5.50551068,  0.60698645, -6.11249713],\n",
       "       [-0.63131624, -0.39150546,  1.0228217 ],\n",
       "       [ 6.20475962,  0.53521085, -6.73997047],\n",
       "       [ 6.14594803,  0.79602443, -6.94197246],\n",
       "       [-5.69191615, -0.84865695,  6.5405731 ],\n",
       "       [-4.8373985 , -0.43682703,  5.27422553],\n",
       "       [-6.07168657,  0.18863177,  5.8830548 ],\n",
       "       [-5.35005427, -0.68213444,  6.0321887 ],\n",
       "       [-3.42156481, -0.27865056,  3.70021537],\n",
       "       [-0.99690177, -0.7594627 ,  1.75636447],\n",
       "       [-7.65039684,  0.32176258,  7.32863426],\n",
       "       [-0.40569438, -0.14910046,  0.55479484],\n",
       "       [ 6.47888567,  0.27699026, -6.75587593],\n",
       "       [-4.15193221, -0.62348124,  4.77541344],\n",
       "       [-3.88692937, -0.12275324,  4.00968261],\n",
       "       [ 5.94093393,  0.806033  , -6.74696693],\n",
       "       [ 6.42797725,  0.45347511, -6.88145236],\n",
       "       [-5.19819674, -0.83813415,  6.03633089],\n",
       "       [ 6.71312236,  0.05994695, -6.77306931],\n",
       "       [-2.91870808, -0.57265544,  3.49136352],\n",
       "       [-3.57734896, -0.68996625,  4.26731521],\n",
       "       [-2.05387596,  0.30619694,  1.74767902],\n",
       "       [-1.40503411, -0.11580454,  1.52083865],\n",
       "       [-5.28226143, -1.24914043,  6.53140186],\n",
       "       [-2.69273392, -0.63141546,  3.32414938],\n",
       "       [ 7.0613721 ,  0.12617652, -7.18754861],\n",
       "       [-2.05857123,  1.10575021,  0.95282102],\n",
       "       [-1.83892086,  0.38274449,  1.45617637],\n",
       "       [-4.02450292, -0.37858565,  4.40308857],\n",
       "       [ 0.13771342,  0.35955735, -0.49727077],\n",
       "       [-5.08500854, -1.62757645,  6.71258499],\n",
       "       [-1.36840966,  0.11954273,  1.24886693],\n",
       "       [ 6.54785566,  0.48153441, -7.02939006],\n",
       "       [ 5.73663854,  0.66813244, -6.40477098],\n",
       "       [ 7.97317896,  0.03401818, -8.00719714],\n",
       "       [-4.41141493, -0.85104734,  5.26246226],\n",
       "       [ 6.32427161,  0.41001425, -6.73428587],\n",
       "       [-3.27832917, -0.20241243,  3.4807416 ],\n",
       "       [-4.63346247, -0.22497191,  4.85843438],\n",
       "       [-2.87055619, -0.77211602,  3.64267221],\n",
       "       [ 6.31912497,  0.5173187 , -6.83644367],\n",
       "       [ 5.11033614,  0.29280806, -5.4031442 ],\n",
       "       [-0.71251826,  0.44108827,  0.27142998],\n",
       "       [ 5.95435017,  0.76765571, -6.72200588],\n",
       "       [-6.45191543,  0.30646122,  6.14545421],\n",
       "       [-1.58887076,  0.22425419,  1.36461657],\n",
       "       [-7.16335352, -0.0307953 ,  7.19414883],\n",
       "       [-5.06026383, -0.6562563 ,  5.71652014],\n",
       "       [-3.25118729,  0.865838  ,  2.38534929],\n",
       "       [-3.67947521, -1.48200153,  5.16147674],\n",
       "       [-5.59301192, -1.22626711,  6.81927904],\n",
       "       [-0.13207671, -0.10782076,  0.23989748],\n",
       "       [ 7.41309001, -0.15973777, -7.25335224],\n",
       "       [-0.9460433 ,  0.283012  ,  0.6630313 ],\n",
       "       [ 4.30580217,  1.06969723, -5.3754994 ],\n",
       "       [-0.9704786 ,  0.45669685,  0.51378175],\n",
       "       [-3.02638322,  0.26273829,  2.76364492],\n",
       "       [ 5.79341232,  0.23643401, -6.02984633],\n",
       "       [-3.30086862,  0.59491344,  2.70595517],\n",
       "       [ 5.59737946, -0.05974983, -5.53762963],\n",
       "       [ 6.17603836,  0.21553485, -6.3915732 ],\n",
       "       [-4.2241101 , -1.54324993,  5.76736002],\n",
       "       [-3.20778687, -0.97365315,  4.18144001],\n",
       "       [-5.41315184, -0.91468171,  6.32783354],\n",
       "       [ 6.19134339,  0.57358813, -6.76493152],\n",
       "       [ 6.48750756,  0.04475241, -6.53225996],\n",
       "       [-2.08892808, -0.90493521,  2.99386329],\n",
       "       [ 6.1117137 ,  0.43039699, -6.54211068],\n",
       "       [-3.68141395, -0.65947255,  4.34088649],\n",
       "       [ 5.76071449,  0.56840215, -6.32911664],\n",
       "       [-4.15707885, -0.51617679,  4.67325564],\n",
       "       [-1.99385139, -0.85644695,  2.85029834],\n",
       "       [ 6.4520532 ,  0.35374482, -6.80579802],\n",
       "       [-4.307357  , -1.10875149,  5.41610849],\n",
       "       [ 6.8689065 ,  0.47126265, -7.34016915],\n",
       "       [-0.39743185, -0.30738375,  0.70481559],\n",
       "       [ 5.98393211,  0.48666642, -6.47059853],\n",
       "       [-0.65181786,  0.57670526,  0.07511261],\n",
       "       [-0.78235598,  0.60999897,  0.17235701],\n",
       "       [ 6.54509913,  0.45855869, -7.00365781],\n",
       "       [ 5.59819725,  0.78575488, -6.38395213],\n",
       "       [ 0.50212887,  0.18317489, -0.68530376],\n",
       "       [ 7.8134112 ,  0.04713617, -7.86054737],\n",
       "       [-1.30887936, -0.28917997,  1.59805933],\n",
       "       [-2.08535376, -0.03645478,  2.12180854],\n",
       "       [ 6.32978468,  0.4559657 , -6.78575037],\n",
       "       [-2.5744349 ,  0.14521826,  2.42921664],\n",
       "       [-0.8627964 , -0.15148643,  1.01428283],\n",
       "       [-3.90192499,  0.66419846,  3.23772652],\n",
       "       [-2.49240803,  0.38533969,  2.10706835],\n",
       "       [-3.68141395, -0.65947255,  4.34088649],\n",
       "       [ 5.62778626,  0.73197603, -6.35976229],\n",
       "       [ 5.27127399,  0.82402976, -6.09530375],\n",
       "       [-3.71206689,  0.07059089,  3.64147601],\n",
       "       [-1.40038879,  0.30360175,  1.09678704],\n",
       "       [-4.76710234,  0.31372154,  4.4533808 ],\n",
       "       [-0.22118897,  0.58189124, -0.36070227],\n",
       "       [-3.1963023 ,  0.037709  ,  3.1585933 ],\n",
       "       [-3.66008747, -0.55496811,  4.21505558],\n",
       "       [-3.71257528,  0.37009117,  3.3424841 ],\n",
       "       [-5.44238149, -0.93485742,  6.37723891],\n",
       "       [ 7.25225125,  0.30245436, -7.5547056 ]])"
      ]
     },
     "execution_count": 184,
     "metadata": {},
     "output_type": "execute_result"
    }
   ],
   "source": [
    "process"
   ]
  },
  {
   "cell_type": "code",
   "execution_count": null,
   "metadata": {},
   "outputs": [],
   "source": []
  },
  {
   "cell_type": "code",
   "execution_count": null,
   "metadata": {},
   "outputs": [],
   "source": []
  },
  {
   "cell_type": "code",
   "execution_count": null,
   "metadata": {},
   "outputs": [],
   "source": []
  },
  {
   "cell_type": "code",
   "execution_count": 159,
   "metadata": {},
   "outputs": [
    {
     "data": {
      "text/plain": [
       "(3,)"
      ]
     },
     "execution_count": 159,
     "metadata": {},
     "output_type": "execute_result"
    }
   ],
   "source": [
    "model_log.intercept_.shape"
   ]
  },
  {
   "cell_type": "code",
   "execution_count": null,
   "metadata": {},
   "outputs": [],
   "source": []
  },
  {
   "cell_type": "code",
   "execution_count": null,
   "metadata": {},
   "outputs": [],
   "source": []
  },
  {
   "cell_type": "code",
   "execution_count": null,
   "metadata": {},
   "outputs": [],
   "source": []
  },
  {
   "cell_type": "code",
   "execution_count": 130,
   "metadata": {
    "scrolled": false
   },
   "outputs": [
    {
     "data": {
      "text/plain": [
       "array([-0.28168642,  1.7755581 , -1.49387168])"
      ]
     },
     "execution_count": 130,
     "metadata": {},
     "output_type": "execute_result"
    }
   ],
   "source": [
    "model_log.intercept_"
   ]
  },
  {
   "cell_type": "code",
   "execution_count": 152,
   "metadata": {},
   "outputs": [
    {
     "data": {
      "text/plain": [
       "(30, 4)"
      ]
     },
     "execution_count": 152,
     "metadata": {},
     "output_type": "execute_result"
    }
   ],
   "source": [
    "x_test.shape"
   ]
  },
  {
   "cell_type": "code",
   "execution_count": 135,
   "metadata": {},
   "outputs": [
    {
     "ename": "ValueError",
     "evalue": "shapes (30,4) and (3,4) not aligned: 4 (dim 1) != 3 (dim 0)",
     "output_type": "error",
     "traceback": [
      "\u001b[0;31m---------------------------------------------------------------------------\u001b[0m",
      "\u001b[0;31mValueError\u001b[0m                                Traceback (most recent call last)",
      "\u001b[0;32m<ipython-input-135-81c578244259>\u001b[0m in \u001b[0;36m<module>\u001b[0;34m\u001b[0m\n\u001b[0;32m----> 1\u001b[0;31m \u001b[0mnp\u001b[0m\u001b[0;34m.\u001b[0m\u001b[0mdot\u001b[0m\u001b[0;34m(\u001b[0m\u001b[0mx_test\u001b[0m\u001b[0;34m,\u001b[0m\u001b[0mmodel_log\u001b[0m\u001b[0;34m.\u001b[0m\u001b[0mcoef_\u001b[0m\u001b[0;34m)\u001b[0m\u001b[0;34m+\u001b[0m\u001b[0mmodel_log\u001b[0m\u001b[0;34m.\u001b[0m\u001b[0mintercept_\u001b[0m\u001b[0;34m\u001b[0m\u001b[0;34m\u001b[0m\u001b[0m\n\u001b[0m",
      "\u001b[0;32m<__array_function__ internals>\u001b[0m in \u001b[0;36mdot\u001b[0;34m(*args, **kwargs)\u001b[0m\n",
      "\u001b[0;31mValueError\u001b[0m: shapes (30,4) and (3,4) not aligned: 4 (dim 1) != 3 (dim 0)"
     ]
    }
   ],
   "source": [
    "np.dot(x_test,model_log.coef_)+model_log.intercept_"
   ]
  },
  {
   "cell_type": "code",
   "execution_count": null,
   "metadata": {},
   "outputs": [],
   "source": []
  },
  {
   "cell_type": "code",
   "execution_count": null,
   "metadata": {},
   "outputs": [],
   "source": []
  },
  {
   "cell_type": "code",
   "execution_count": 139,
   "metadata": {
    "scrolled": true
   },
   "outputs": [
    {
     "data": {
      "text/plain": [
       "array([0, 1, 1, 0, 2, 1, 2, 0, 0, 2, 1, 0, 2, 1, 1, 0, 1, 1, 0, 0, 1, 1,\n",
       "       2, 0, 2, 1, 0, 0, 1, 2])"
      ]
     },
     "execution_count": 139,
     "metadata": {},
     "output_type": "execute_result"
    }
   ],
   "source": [
    "model_log.predict(x_test)"
   ]
  },
  {
   "cell_type": "code",
   "execution_count": null,
   "metadata": {},
   "outputs": [],
   "source": []
  },
  {
   "cell_type": "code",
   "execution_count": null,
   "metadata": {},
   "outputs": [],
   "source": []
  },
  {
   "cell_type": "code",
   "execution_count": null,
   "metadata": {},
   "outputs": [],
   "source": []
  },
  {
   "cell_type": "code",
   "execution_count": null,
   "metadata": {},
   "outputs": [],
   "source": []
  },
  {
   "cell_type": "code",
   "execution_count": null,
   "metadata": {},
   "outputs": [],
   "source": []
  },
  {
   "cell_type": "code",
   "execution_count": null,
   "metadata": {},
   "outputs": [],
   "source": []
  },
  {
   "cell_type": "code",
   "execution_count": null,
   "metadata": {},
   "outputs": [],
   "source": []
  },
  {
   "cell_type": "code",
   "execution_count": null,
   "metadata": {},
   "outputs": [],
   "source": []
  },
  {
   "cell_type": "code",
   "execution_count": null,
   "metadata": {},
   "outputs": [],
   "source": []
  },
  {
   "cell_type": "code",
   "execution_count": null,
   "metadata": {},
   "outputs": [],
   "source": []
  },
  {
   "cell_type": "code",
   "execution_count": null,
   "metadata": {},
   "outputs": [],
   "source": []
  },
  {
   "cell_type": "code",
   "execution_count": null,
   "metadata": {},
   "outputs": [],
   "source": []
  },
  {
   "cell_type": "code",
   "execution_count": null,
   "metadata": {},
   "outputs": [],
   "source": []
  },
  {
   "cell_type": "code",
   "execution_count": null,
   "metadata": {},
   "outputs": [],
   "source": []
  },
  {
   "cell_type": "code",
   "execution_count": null,
   "metadata": {},
   "outputs": [],
   "source": []
  }
 ],
 "metadata": {
  "kernelspec": {
   "display_name": "Python 3",
   "language": "python",
   "name": "python3"
  },
  "language_info": {
   "codemirror_mode": {
    "name": "ipython",
    "version": 3
   },
   "file_extension": ".py",
   "mimetype": "text/x-python",
   "name": "python",
   "nbconvert_exporter": "python",
   "pygments_lexer": "ipython3",
   "version": "3.7.6"
  }
 },
 "nbformat": 4,
 "nbformat_minor": 4
}
