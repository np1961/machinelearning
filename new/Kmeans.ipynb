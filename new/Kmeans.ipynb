{
 "cells": [
  {
   "cell_type": "code",
   "execution_count": 33,
   "metadata": {},
   "outputs": [],
   "source": [
    "from time import sleep \n",
    "import numpy as np\n",
    "from matplotlib import pyplot\n"
   ]
  },
  {
   "cell_type": "code",
   "execution_count": 42,
   "metadata": {},
   "outputs": [],
   "source": [
    "elements= [(98, 62), (80, 95), (71, 130), (89, 164), (137, 115), (107, 155), (109, 105), (174, 62), (183, 115), (164, 153),\n",
    "         (142, 174), (140, 80), (308, 123), (229, 171), (195, 237), (180, 298), (179, 340), (251, 262), (300, 176),\n",
    "         (346, 178), (311, 237), (291, 283), (254, 340), (215, 308), (239, 223), (281, 207), (283, 156)]\n",
    "\n",
    "def _distance_(first_value, second_value):\n",
    "    return (np.mean((first_value - second_value) ** 2))**0.5\n",
    "median_values = np.mean(elements, axis=0)      \n",
    "dispersia = np.var(elements, axis=0)       \n",
    "classters = range(3)     \n",
    "rangers=range(10)\n",
    "starting_cordinate= [np.random.normal(median_values, np.sqrt(dispersia/ 10), 2) for classter in classters]        # начальные центры кластероd\n",
    "COLORS = ('green', 'blue', 'brown', 'black')\n",
    "pyplot.ion()"
   ]
  },
  {
   "cell_type": "code",
   "execution_count": null,
   "metadata": {},
   "outputs": [],
   "source": []
  },
  {
   "cell_type": "code",
   "execution_count": 43,
   "metadata": {},
   "outputs": [
    {
     "name": "stdout",
     "output_type": "stream",
     "text": [
      "[295.42857142857144, 183.875, 117.5]\n",
      "[295.42857142857144, 183.875, 117.5]\n",
      "[295.42857142857144, 183.875, 117.5]\n",
      "[295.42857142857144, 183.875, 117.5]\n",
      "[295.42857142857144, 183.875, 117.5]\n",
      "[295.42857142857144, 183.875, 117.5]\n",
      "[295.42857142857144, 183.875, 117.5]\n",
      "[295.42857142857144, 183.875, 117.5]\n",
      "[295.42857142857144, 183.875, 117.5]\n",
      "[295.42857142857144, 183.875, 117.5]\n"
     ]
    },
    {
     "data": {
      "image/png": "[encoded data removed]",
      "text/plain": [
       "<Figure size 432x288 with 1 Axes>"
      ]
     },
     "metadata": {
      "needs_background": "light"
     },
     "output_type": "display_data"
    }
   ],
   "source": [
    "for ranger in rangers:\n",
    "    _list_ = [[] for classter in classters]                  # инициализация пустого двумерного списка для хранения объектов кластеров\n",
    "\n",
    "    for element in elements:\n",
    "        distances = [_distance_(element, cordinate) for cordinate in starting_cordinate]         # вычисление расстояний для текущего образа до центров кластеров\n",
    "        _list_[np.argmin(distances)].append(element)          # добавление образа к кластеру с ближайшим центром\n",
    "\n",
    "    starting_cordinate = [np.mean(ls, axis=0) for ls in _list_]      # пересчет центров кластеров\n",
    "\n",
    "    pyplot.clf()\n",
    "    # отображение найденных кластеров\n",
    "    for classter in classters:\n",
    "        value = np.array(_list_[classter]).T\n",
    "        pyplot.scatter(value[0], value[1], s=10, color=COLORS[classter])\n",
    "\n",
    "    # отображение центров кластеров\n",
    "    X_cordinates = [starting[0] for starting in starting_cordinate]\n",
    "    Y_cordinates = [starting[1] for starting in starting_cordinate]\n",
    "    print(Y_corninates)\n",
    "    pyplot.scatter(X_cordinates, Y_cordinates, s=50, color='red')\n",
    "\n",
    "    pyplot.draw()\n",
    "    pyplot.gcf().canvas.flush_events()\n",
    "    pyplot.savefig(f\"lloyd {ranger+1}.png\")\n",
    "pyplot.show()\n",
    "\n"
   ]
  },
  {
   "cell_type": "code",
   "execution_count": null,
   "metadata": {},
   "outputs": [],
   "source": []
  },
  {
   "cell_type": "code",
   "execution_count": null,
   "metadata": {},
   "outputs": [],
   "source": [
    "\n",
    "\n"
   ]
  },
  {
   "cell_type": "code",
   "execution_count": null,
   "metadata": {},
   "outputs": [],
   "source": [
    "\n"
   ]
  },
  {
   "cell_type": "code",
   "execution_count": null,
   "metadata": {},
   "outputs": [],
   "source": []
  }
 ],
 "metadata": {
  "kernelspec": {
   "display_name": "Python 3",
   "language": "python",
   "name": "python3"
  },
  "language_info": {
   "codemirror_mode": {
    "name": "ipython",
    "version": 3
   },
   "file_extension": ".py",
   "mimetype": "text/x-python",
   "name": "python",
   "nbconvert_exporter": "python",
   "pygments_lexer": "ipython3",
   "version": "3.7.6"
  }
 },
 "nbformat": 4,
 "nbformat_minor": 4
}
