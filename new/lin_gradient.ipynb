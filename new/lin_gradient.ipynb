{
 "cells": [
  {
   "cell_type": "code",
   "execution_count": 1,
   "metadata": {},
   "outputs": [],
   "source": [
    "import numpy as np\n",
    "from pandas import DataFrame\n",
    "from matplotlib import pyplot\n",
    "\n",
    "from sklearn.linear_model import LinearRegression\n",
    "from sklearn.linear_model import SGDRegressor\n",
    "\n",
    "from sympy import Symbol\n",
    "from sympy import Abs\n",
    "from sympy import diff\n",
    "\n",
    "from warnings import filterwarnings as message\n",
    "message(action='ignore')"
   ]
  },
  {
   "cell_type": "code",
   "execution_count": null,
   "metadata": {},
   "outputs": [],
   "source": []
  },
  {
   "cell_type": "code",
   "execution_count": null,
   "metadata": {},
   "outputs": [],
   "source": []
  },
  {
   "cell_type": "code",
   "execution_count": null,
   "metadata": {},
   "outputs": [],
   "source": []
  },
  {
   "cell_type": "code",
   "execution_count": null,
   "metadata": {},
   "outputs": [],
   "source": []
  },
  {
   "cell_type": "code",
   "execution_count": 2,
   "metadata": {},
   "outputs": [],
   "source": [
    "df=DataFrame({'x':[0.9,4.11,4.82,8.53,8.9],\n",
    "             'y':[1.91,1.84,4.47,6.38,3.92]})"
   ]
  },
  {
   "cell_type": "code",
   "execution_count": 3,
   "metadata": {},
   "outputs": [
    {
     "data": {
      "text/html": [
       "<div>\n",
       "<style scoped>\n",
       "    .dataframe tbody tr th:only-of-type {\n",
       "        vertical-align: middle;\n",
       "    }\n",
       "\n",
       "    .dataframe tbody tr th {\n",
       "        vertical-align: top;\n",
       "    }\n",
       "\n",
       "    .dataframe thead th {\n",
       "        text-align: right;\n",
       "    }\n",
       "</style>\n",
       "<table border=\"1\" class=\"dataframe\">\n",
       "  <thead>\n",
       "    <tr style=\"text-align: right;\">\n",
       "      <th></th>\n",
       "      <th>x</th>\n",
       "      <th>y</th>\n",
       "    </tr>\n",
       "  </thead>\n",
       "  <tbody>\n",
       "    <tr>\n",
       "      <th>0</th>\n",
       "      <td>0.90</td>\n",
       "      <td>1.91</td>\n",
       "    </tr>\n",
       "    <tr>\n",
       "      <th>1</th>\n",
       "      <td>4.11</td>\n",
       "      <td>1.84</td>\n",
       "    </tr>\n",
       "    <tr>\n",
       "      <th>2</th>\n",
       "      <td>4.82</td>\n",
       "      <td>4.47</td>\n",
       "    </tr>\n",
       "    <tr>\n",
       "      <th>3</th>\n",
       "      <td>8.53</td>\n",
       "      <td>6.38</td>\n",
       "    </tr>\n",
       "    <tr>\n",
       "      <th>4</th>\n",
       "      <td>8.90</td>\n",
       "      <td>3.92</td>\n",
       "    </tr>\n",
       "  </tbody>\n",
       "</table>\n",
       "</div>"
      ],
      "text/plain": [
       "      x     y\n",
       "0  0.90  1.91\n",
       "1  4.11  1.84\n",
       "2  4.82  4.47\n",
       "3  8.53  6.38\n",
       "4  8.90  3.92"
      ]
     },
     "execution_count": 3,
     "metadata": {},
     "output_type": "execute_result"
    }
   ],
   "source": [
    "df"
   ]
  },
  {
   "cell_type": "code",
   "execution_count": 4,
   "metadata": {},
   "outputs": [
    {
     "data": {
      "text/plain": [
       "<matplotlib.axes._subplots.AxesSubplot at 0x7f11d5fccfd0>"
      ]
     },
     "execution_count": 4,
     "metadata": {},
     "output_type": "execute_result"
    },
    {
     "data": {
      "image/png": "[encoded data removed]",
      "text/plain": [
       "<Figure size 432x288 with 1 Axes>"
      ]
     },
     "metadata": {
      "needs_background": "light"
     },
     "output_type": "display_data"
    }
   ],
   "source": [
    "df.plot(x='x',\n",
    "       y='y',\n",
    "       kind='scatter',\n",
    "       color='g')"
   ]
  },
  {
   "cell_type": "code",
   "execution_count": 5,
   "metadata": {},
   "outputs": [],
   "source": [
    "weights,bias=1,1"
   ]
  },
  {
   "cell_type": "code",
   "execution_count": 6,
   "metadata": {},
   "outputs": [],
   "source": [
    "df['y_predict']=df['x']*weights+bias"
   ]
  },
  {
   "cell_type": "code",
   "execution_count": 7,
   "metadata": {},
   "outputs": [
    {
     "data": {
      "text/html": [
       "<div>\n",
       "<style scoped>\n",
       "    .dataframe tbody tr th:only-of-type {\n",
       "        vertical-align: middle;\n",
       "    }\n",
       "\n",
       "    .dataframe tbody tr th {\n",
       "        vertical-align: top;\n",
       "    }\n",
       "\n",
       "    .dataframe thead th {\n",
       "        text-align: right;\n",
       "    }\n",
       "</style>\n",
       "<table border=\"1\" class=\"dataframe\">\n",
       "  <thead>\n",
       "    <tr style=\"text-align: right;\">\n",
       "      <th></th>\n",
       "      <th>x</th>\n",
       "      <th>y</th>\n",
       "      <th>y_predict</th>\n",
       "    </tr>\n",
       "  </thead>\n",
       "  <tbody>\n",
       "    <tr>\n",
       "      <th>0</th>\n",
       "      <td>0.90</td>\n",
       "      <td>1.91</td>\n",
       "      <td>1.90</td>\n",
       "    </tr>\n",
       "    <tr>\n",
       "      <th>1</th>\n",
       "      <td>4.11</td>\n",
       "      <td>1.84</td>\n",
       "      <td>5.11</td>\n",
       "    </tr>\n",
       "    <tr>\n",
       "      <th>2</th>\n",
       "      <td>4.82</td>\n",
       "      <td>4.47</td>\n",
       "      <td>5.82</td>\n",
       "    </tr>\n",
       "    <tr>\n",
       "      <th>3</th>\n",
       "      <td>8.53</td>\n",
       "      <td>6.38</td>\n",
       "      <td>9.53</td>\n",
       "    </tr>\n",
       "    <tr>\n",
       "      <th>4</th>\n",
       "      <td>8.90</td>\n",
       "      <td>3.92</td>\n",
       "      <td>9.90</td>\n",
       "    </tr>\n",
       "  </tbody>\n",
       "</table>\n",
       "</div>"
      ],
      "text/plain": [
       "      x     y  y_predict\n",
       "0  0.90  1.91       1.90\n",
       "1  4.11  1.84       5.11\n",
       "2  4.82  4.47       5.82\n",
       "3  8.53  6.38       9.53\n",
       "4  8.90  3.92       9.90"
      ]
     },
     "execution_count": 7,
     "metadata": {},
     "output_type": "execute_result"
    }
   ],
   "source": [
    "df"
   ]
  },
  {
   "cell_type": "code",
   "execution_count": 8,
   "metadata": {},
   "outputs": [
    {
     "data": {
      "text/plain": [
       "[<matplotlib.lines.Line2D at 0x7f11ca4b7f10>]"
      ]
     },
     "execution_count": 8,
     "metadata": {},
     "output_type": "execute_result"
    },
    {
     "data": {
      "image/png": "[encoded data removed]",
      "text/plain": [
       "<Figure size 432x288 with 1 Axes>"
      ]
     },
     "metadata": {
      "needs_background": "light"
     },
     "output_type": "display_data"
    }
   ],
   "source": [
    "pyplot.scatter(df['x'], df['y'])\n",
    "pyplot.plot(df['x'],df['y_predict'])"
   ]
  },
  {
   "cell_type": "code",
   "execution_count": null,
   "metadata": {},
   "outputs": [],
   "source": []
  },
  {
   "cell_type": "code",
   "execution_count": null,
   "metadata": {},
   "outputs": [],
   "source": []
  },
  {
   "cell_type": "code",
   "execution_count": null,
   "metadata": {},
   "outputs": [],
   "source": []
  },
  {
   "cell_type": "code",
   "execution_count": 9,
   "metadata": {},
   "outputs": [],
   "source": [
    "df['error_abs']=np.abs(df['y']-df['y_predict'])"
   ]
  },
  {
   "cell_type": "code",
   "execution_count": 10,
   "metadata": {},
   "outputs": [
    {
     "data": {
      "text/plain": [
       "2.7520000000000002"
      ]
     },
     "execution_count": 10,
     "metadata": {},
     "output_type": "execute_result"
    }
   ],
   "source": [
    "df['error_abs'].mean()"
   ]
  },
  {
   "cell_type": "code",
   "execution_count": null,
   "metadata": {},
   "outputs": [],
   "source": []
  },
  {
   "cell_type": "code",
   "execution_count": null,
   "metadata": {},
   "outputs": [],
   "source": []
  },
  {
   "cell_type": "code",
   "execution_count": 11,
   "metadata": {},
   "outputs": [],
   "source": [
    "df['weights_update']=(df['x']-df['y_predict'])*np.sign(np.abs(df['y'])-df['y_predict'])"
   ]
  },
  {
   "cell_type": "code",
   "execution_count": 12,
   "metadata": {},
   "outputs": [
    {
     "data": {
      "text/html": [
       "<div>\n",
       "<style scoped>\n",
       "    .dataframe tbody tr th:only-of-type {\n",
       "        vertical-align: middle;\n",
       "    }\n",
       "\n",
       "    .dataframe tbody tr th {\n",
       "        vertical-align: top;\n",
       "    }\n",
       "\n",
       "    .dataframe thead th {\n",
       "        text-align: right;\n",
       "    }\n",
       "</style>\n",
       "<table border=\"1\" class=\"dataframe\">\n",
       "  <thead>\n",
       "    <tr style=\"text-align: right;\">\n",
       "      <th></th>\n",
       "      <th>x</th>\n",
       "      <th>y</th>\n",
       "      <th>y_predict</th>\n",
       "      <th>error_abs</th>\n",
       "      <th>weights_update</th>\n",
       "    </tr>\n",
       "  </thead>\n",
       "  <tbody>\n",
       "    <tr>\n",
       "      <th>0</th>\n",
       "      <td>0.90</td>\n",
       "      <td>1.91</td>\n",
       "      <td>1.90</td>\n",
       "      <td>0.01</td>\n",
       "      <td>-1.0</td>\n",
       "    </tr>\n",
       "    <tr>\n",
       "      <th>1</th>\n",
       "      <td>4.11</td>\n",
       "      <td>1.84</td>\n",
       "      <td>5.11</td>\n",
       "      <td>3.27</td>\n",
       "      <td>1.0</td>\n",
       "    </tr>\n",
       "    <tr>\n",
       "      <th>2</th>\n",
       "      <td>4.82</td>\n",
       "      <td>4.47</td>\n",
       "      <td>5.82</td>\n",
       "      <td>1.35</td>\n",
       "      <td>1.0</td>\n",
       "    </tr>\n",
       "    <tr>\n",
       "      <th>3</th>\n",
       "      <td>8.53</td>\n",
       "      <td>6.38</td>\n",
       "      <td>9.53</td>\n",
       "      <td>3.15</td>\n",
       "      <td>1.0</td>\n",
       "    </tr>\n",
       "    <tr>\n",
       "      <th>4</th>\n",
       "      <td>8.90</td>\n",
       "      <td>3.92</td>\n",
       "      <td>9.90</td>\n",
       "      <td>5.98</td>\n",
       "      <td>1.0</td>\n",
       "    </tr>\n",
       "  </tbody>\n",
       "</table>\n",
       "</div>"
      ],
      "text/plain": [
       "      x     y  y_predict  error_abs  weights_update\n",
       "0  0.90  1.91       1.90       0.01            -1.0\n",
       "1  4.11  1.84       5.11       3.27             1.0\n",
       "2  4.82  4.47       5.82       1.35             1.0\n",
       "3  8.53  6.38       9.53       3.15             1.0\n",
       "4  8.90  3.92       9.90       5.98             1.0"
      ]
     },
     "execution_count": 12,
     "metadata": {},
     "output_type": "execute_result"
    }
   ],
   "source": [
    "df"
   ]
  },
  {
   "cell_type": "code",
   "execution_count": 13,
   "metadata": {},
   "outputs": [
    {
     "data": {
      "text/plain": [
       "0   -1.0\n",
       "1    1.0\n",
       "2    1.0\n",
       "3    1.0\n",
       "4    1.0\n",
       "Name: weights_update, dtype: float64"
      ]
     },
     "execution_count": 13,
     "metadata": {},
     "output_type": "execute_result"
    }
   ],
   "source": [
    "df['weights_update']"
   ]
  },
  {
   "cell_type": "code",
   "execution_count": null,
   "metadata": {},
   "outputs": [],
   "source": []
  },
  {
   "cell_type": "code",
   "execution_count": 14,
   "metadata": {},
   "outputs": [],
   "source": [
    "df['weights_update']=df['x']*np.sign(np.abs(df['y'])-df['y_predict'])"
   ]
  },
  {
   "cell_type": "code",
   "execution_count": 15,
   "metadata": {},
   "outputs": [],
   "source": [
    "df['bias_update']=np.sign(np.abs(df['y'])-df['y_predict'])"
   ]
  },
  {
   "cell_type": "code",
   "execution_count": 16,
   "metadata": {},
   "outputs": [
    {
     "data": {
      "text/html": [
       "<div>\n",
       "<style scoped>\n",
       "    .dataframe tbody tr th:only-of-type {\n",
       "        vertical-align: middle;\n",
       "    }\n",
       "\n",
       "    .dataframe tbody tr th {\n",
       "        vertical-align: top;\n",
       "    }\n",
       "\n",
       "    .dataframe thead th {\n",
       "        text-align: right;\n",
       "    }\n",
       "</style>\n",
       "<table border=\"1\" class=\"dataframe\">\n",
       "  <thead>\n",
       "    <tr style=\"text-align: right;\">\n",
       "      <th></th>\n",
       "      <th>x</th>\n",
       "      <th>y</th>\n",
       "      <th>y_predict</th>\n",
       "      <th>error_abs</th>\n",
       "      <th>weights_update</th>\n",
       "      <th>bias_update</th>\n",
       "    </tr>\n",
       "  </thead>\n",
       "  <tbody>\n",
       "    <tr>\n",
       "      <th>0</th>\n",
       "      <td>0.90</td>\n",
       "      <td>1.91</td>\n",
       "      <td>1.90</td>\n",
       "      <td>0.01</td>\n",
       "      <td>0.90</td>\n",
       "      <td>1.0</td>\n",
       "    </tr>\n",
       "    <tr>\n",
       "      <th>1</th>\n",
       "      <td>4.11</td>\n",
       "      <td>1.84</td>\n",
       "      <td>5.11</td>\n",
       "      <td>3.27</td>\n",
       "      <td>-4.11</td>\n",
       "      <td>-1.0</td>\n",
       "    </tr>\n",
       "    <tr>\n",
       "      <th>2</th>\n",
       "      <td>4.82</td>\n",
       "      <td>4.47</td>\n",
       "      <td>5.82</td>\n",
       "      <td>1.35</td>\n",
       "      <td>-4.82</td>\n",
       "      <td>-1.0</td>\n",
       "    </tr>\n",
       "    <tr>\n",
       "      <th>3</th>\n",
       "      <td>8.53</td>\n",
       "      <td>6.38</td>\n",
       "      <td>9.53</td>\n",
       "      <td>3.15</td>\n",
       "      <td>-8.53</td>\n",
       "      <td>-1.0</td>\n",
       "    </tr>\n",
       "    <tr>\n",
       "      <th>4</th>\n",
       "      <td>8.90</td>\n",
       "      <td>3.92</td>\n",
       "      <td>9.90</td>\n",
       "      <td>5.98</td>\n",
       "      <td>-8.90</td>\n",
       "      <td>-1.0</td>\n",
       "    </tr>\n",
       "  </tbody>\n",
       "</table>\n",
       "</div>"
      ],
      "text/plain": [
       "      x     y  y_predict  error_abs  weights_update  bias_update\n",
       "0  0.90  1.91       1.90       0.01            0.90          1.0\n",
       "1  4.11  1.84       5.11       3.27           -4.11         -1.0\n",
       "2  4.82  4.47       5.82       1.35           -4.82         -1.0\n",
       "3  8.53  6.38       9.53       3.15           -8.53         -1.0\n",
       "4  8.90  3.92       9.90       5.98           -8.90         -1.0"
      ]
     },
     "execution_count": 16,
     "metadata": {},
     "output_type": "execute_result"
    }
   ],
   "source": [
    "df"
   ]
  },
  {
   "cell_type": "code",
   "execution_count": null,
   "metadata": {},
   "outputs": [],
   "source": []
  },
  {
   "cell_type": "code",
   "execution_count": null,
   "metadata": {},
   "outputs": [],
   "source": []
  },
  {
   "cell_type": "code",
   "execution_count": 17,
   "metadata": {},
   "outputs": [
    {
     "data": {
      "text/plain": [
       "-5.0920000000000005"
      ]
     },
     "execution_count": 17,
     "metadata": {},
     "output_type": "execute_result"
    }
   ],
   "source": [
    "df['weights_update'].mean()"
   ]
  },
  {
   "cell_type": "code",
   "execution_count": 18,
   "metadata": {},
   "outputs": [
    {
     "data": {
      "text/plain": [
       "-0.6"
      ]
     },
     "execution_count": 18,
     "metadata": {},
     "output_type": "execute_result"
    }
   ],
   "source": [
    "df['bias_update'].mean()"
   ]
  },
  {
   "cell_type": "code",
   "execution_count": 19,
   "metadata": {},
   "outputs": [
    {
     "data": {
      "text/html": [
       "<div>\n",
       "<style scoped>\n",
       "    .dataframe tbody tr th:only-of-type {\n",
       "        vertical-align: middle;\n",
       "    }\n",
       "\n",
       "    .dataframe tbody tr th {\n",
       "        vertical-align: top;\n",
       "    }\n",
       "\n",
       "    .dataframe thead th {\n",
       "        text-align: right;\n",
       "    }\n",
       "</style>\n",
       "<table border=\"1\" class=\"dataframe\">\n",
       "  <thead>\n",
       "    <tr style=\"text-align: right;\">\n",
       "      <th></th>\n",
       "      <th>x</th>\n",
       "      <th>y</th>\n",
       "      <th>y_predict</th>\n",
       "      <th>error_abs</th>\n",
       "      <th>weights_update</th>\n",
       "      <th>bias_update</th>\n",
       "    </tr>\n",
       "  </thead>\n",
       "  <tbody>\n",
       "    <tr>\n",
       "      <th>0</th>\n",
       "      <td>0.90</td>\n",
       "      <td>1.91</td>\n",
       "      <td>1.90</td>\n",
       "      <td>0.01</td>\n",
       "      <td>0.90</td>\n",
       "      <td>1.0</td>\n",
       "    </tr>\n",
       "    <tr>\n",
       "      <th>1</th>\n",
       "      <td>4.11</td>\n",
       "      <td>1.84</td>\n",
       "      <td>5.11</td>\n",
       "      <td>3.27</td>\n",
       "      <td>-4.11</td>\n",
       "      <td>-1.0</td>\n",
       "    </tr>\n",
       "    <tr>\n",
       "      <th>2</th>\n",
       "      <td>4.82</td>\n",
       "      <td>4.47</td>\n",
       "      <td>5.82</td>\n",
       "      <td>1.35</td>\n",
       "      <td>-4.82</td>\n",
       "      <td>-1.0</td>\n",
       "    </tr>\n",
       "    <tr>\n",
       "      <th>3</th>\n",
       "      <td>8.53</td>\n",
       "      <td>6.38</td>\n",
       "      <td>9.53</td>\n",
       "      <td>3.15</td>\n",
       "      <td>-8.53</td>\n",
       "      <td>-1.0</td>\n",
       "    </tr>\n",
       "    <tr>\n",
       "      <th>4</th>\n",
       "      <td>8.90</td>\n",
       "      <td>3.92</td>\n",
       "      <td>9.90</td>\n",
       "      <td>5.98</td>\n",
       "      <td>-8.90</td>\n",
       "      <td>-1.0</td>\n",
       "    </tr>\n",
       "  </tbody>\n",
       "</table>\n",
       "</div>"
      ],
      "text/plain": [
       "      x     y  y_predict  error_abs  weights_update  bias_update\n",
       "0  0.90  1.91       1.90       0.01            0.90          1.0\n",
       "1  4.11  1.84       5.11       3.27           -4.11         -1.0\n",
       "2  4.82  4.47       5.82       1.35           -4.82         -1.0\n",
       "3  8.53  6.38       9.53       3.15           -8.53         -1.0\n",
       "4  8.90  3.92       9.90       5.98           -8.90         -1.0"
      ]
     },
     "execution_count": 19,
     "metadata": {},
     "output_type": "execute_result"
    }
   ],
   "source": [
    "df"
   ]
  },
  {
   "cell_type": "code",
   "execution_count": null,
   "metadata": {},
   "outputs": [],
   "source": []
  },
  {
   "cell_type": "code",
   "execution_count": null,
   "metadata": {},
   "outputs": [],
   "source": []
  },
  {
   "cell_type": "code",
   "execution_count": null,
   "metadata": {},
   "outputs": [],
   "source": []
  },
  {
   "cell_type": "code",
   "execution_count": 20,
   "metadata": {},
   "outputs": [],
   "source": [
    "df=df[['x','y']].copy()"
   ]
  },
  {
   "cell_type": "code",
   "execution_count": 21,
   "metadata": {},
   "outputs": [
    {
     "data": {
      "text/html": [
       "<div>\n",
       "<style scoped>\n",
       "    .dataframe tbody tr th:only-of-type {\n",
       "        vertical-align: middle;\n",
       "    }\n",
       "\n",
       "    .dataframe tbody tr th {\n",
       "        vertical-align: top;\n",
       "    }\n",
       "\n",
       "    .dataframe thead th {\n",
       "        text-align: right;\n",
       "    }\n",
       "</style>\n",
       "<table border=\"1\" class=\"dataframe\">\n",
       "  <thead>\n",
       "    <tr style=\"text-align: right;\">\n",
       "      <th></th>\n",
       "      <th>x</th>\n",
       "      <th>y</th>\n",
       "    </tr>\n",
       "  </thead>\n",
       "  <tbody>\n",
       "    <tr>\n",
       "      <th>0</th>\n",
       "      <td>0.90</td>\n",
       "      <td>1.91</td>\n",
       "    </tr>\n",
       "    <tr>\n",
       "      <th>1</th>\n",
       "      <td>4.11</td>\n",
       "      <td>1.84</td>\n",
       "    </tr>\n",
       "    <tr>\n",
       "      <th>2</th>\n",
       "      <td>4.82</td>\n",
       "      <td>4.47</td>\n",
       "    </tr>\n",
       "    <tr>\n",
       "      <th>3</th>\n",
       "      <td>8.53</td>\n",
       "      <td>6.38</td>\n",
       "    </tr>\n",
       "    <tr>\n",
       "      <th>4</th>\n",
       "      <td>8.90</td>\n",
       "      <td>3.92</td>\n",
       "    </tr>\n",
       "  </tbody>\n",
       "</table>\n",
       "</div>"
      ],
      "text/plain": [
       "      x     y\n",
       "0  0.90  1.91\n",
       "1  4.11  1.84\n",
       "2  4.82  4.47\n",
       "3  8.53  6.38\n",
       "4  8.90  3.92"
      ]
     },
     "execution_count": 21,
     "metadata": {},
     "output_type": "execute_result"
    }
   ],
   "source": [
    "df"
   ]
  },
  {
   "cell_type": "code",
   "execution_count": null,
   "metadata": {},
   "outputs": [],
   "source": []
  },
  {
   "cell_type": "code",
   "execution_count": null,
   "metadata": {},
   "outputs": [],
   "source": []
  },
  {
   "cell_type": "code",
   "execution_count": null,
   "metadata": {},
   "outputs": [],
   "source": []
  },
  {
   "cell_type": "code",
   "execution_count": 22,
   "metadata": {},
   "outputs": [
    {
     "data": {
      "text/html": [
       "<div>\n",
       "<style scoped>\n",
       "    .dataframe tbody tr th:only-of-type {\n",
       "        vertical-align: middle;\n",
       "    }\n",
       "\n",
       "    .dataframe tbody tr th {\n",
       "        vertical-align: top;\n",
       "    }\n",
       "\n",
       "    .dataframe thead th {\n",
       "        text-align: right;\n",
       "    }\n",
       "</style>\n",
       "<table border=\"1\" class=\"dataframe\">\n",
       "  <thead>\n",
       "    <tr style=\"text-align: right;\">\n",
       "      <th></th>\n",
       "      <th>x</th>\n",
       "      <th>y</th>\n",
       "    </tr>\n",
       "  </thead>\n",
       "  <tbody>\n",
       "    <tr>\n",
       "      <th>0</th>\n",
       "      <td>0.90</td>\n",
       "      <td>1.91</td>\n",
       "    </tr>\n",
       "    <tr>\n",
       "      <th>1</th>\n",
       "      <td>4.11</td>\n",
       "      <td>1.84</td>\n",
       "    </tr>\n",
       "    <tr>\n",
       "      <th>2</th>\n",
       "      <td>4.82</td>\n",
       "      <td>4.47</td>\n",
       "    </tr>\n",
       "    <tr>\n",
       "      <th>3</th>\n",
       "      <td>8.53</td>\n",
       "      <td>6.38</td>\n",
       "    </tr>\n",
       "    <tr>\n",
       "      <th>4</th>\n",
       "      <td>8.90</td>\n",
       "      <td>3.92</td>\n",
       "    </tr>\n",
       "  </tbody>\n",
       "</table>\n",
       "</div>"
      ],
      "text/plain": [
       "      x     y\n",
       "0  0.90  1.91\n",
       "1  4.11  1.84\n",
       "2  4.82  4.47\n",
       "3  8.53  6.38\n",
       "4  8.90  3.92"
      ]
     },
     "execution_count": 22,
     "metadata": {},
     "output_type": "execute_result"
    }
   ],
   "source": [
    "df"
   ]
  },
  {
   "cell_type": "code",
   "execution_count": 23,
   "metadata": {},
   "outputs": [
    {
     "name": "stdout",
     "output_type": "stream",
     "text": [
      "this moment error mean -->2.4891153600000004\n",
      "this moment error mean -->2.22623072\n",
      "this moment error mean -->1.9633460800000009\n",
      "this moment error mean -->1.7004614400000009\n",
      "this moment error mean -->1.4375768000000009\n",
      "this moment error mean -->1.2381347200000006\n",
      "this moment error mean -->1.1376257600000006\n",
      "this moment error mean -->1.0514624\n",
      "this moment error mean -->1.0504473599999997\n",
      "this moment error mean -->1.0536102400000011\n",
      "this moment error mean -->1.0576790399999998\n",
      "this moment error mean -->1.056664\n",
      "this moment error mean -->1.0556489599999999\n",
      "this moment error mean -->1.0546339200000001\n",
      "this moment error mean -->1.05361888\n",
      "this moment error mean -->1.0526038399999997\n",
      "this moment error mean -->1.0515888\n",
      "this moment error mean -->1.05057376\n",
      "this moment error mean -->1.0495587199999998\n",
      "this moment error mean -->1.0485436799999999\n",
      "this moment error mean -->1.04752864\n",
      "this moment error mean -->1.0465136000000002\n",
      "this moment error mean -->1.052061920000002\n",
      "this moment error mean -->1.0537452799999998\n",
      "this moment error mean -->1.05273024\n",
      "this moment error mean -->1.0517151999999996\n",
      "this moment error mean -->1.0507001599999994\n",
      "this moment error mean -->1.04968512\n",
      "this moment error mean -->1.0486700799999997\n",
      "this moment error mean -->1.0476550399999998\n",
      "this moment error mean -->1.0466399999999996\n",
      "this moment error mean -->1.0456249599999996\n",
      "this moment error mean -->1.0446099199999999\n",
      "this moment error mean -->1.04359488\n",
      "this moment error mean -->1.0425798399999997\n",
      "this moment error mean -->1.0505136000000035\n",
      "this moment error mean -->1.0498115199999998\n",
      "this moment error mean -->1.0487964799999996\n",
      "this moment error mean -->1.0477814399999996\n",
      "this moment error mean -->1.0467663999999997\n",
      "this moment error mean -->1.0457513599999997\n",
      "this moment error mean -->1.0447363199999997\n",
      "this moment error mean -->1.0437212799999993\n",
      "this moment error mean -->1.0427062399999998\n",
      "this moment error mean -->1.0416911999999996\n",
      "this moment error mean -->1.0406761599999996\n",
      "this moment error mean -->1.0396611199999997\n",
      "this moment error mean -->1.040718560000005\n",
      "this moment error mean -->1.0468927999999997\n",
      "this moment error mean -->1.0458777599999995\n",
      "this moment error mean -->1.0448627199999998\n",
      "this moment error mean -->1.0438476799999996\n",
      "this moment error mean -->1.0428326399999996\n",
      "this moment error mean -->1.0418175999999997\n",
      "this moment error mean -->1.0408025599999995\n",
      "this moment error mean -->1.0397875199999995\n",
      "this moment error mean -->1.0387724799999998\n",
      "this moment error mean -->1.0377574399999996\n",
      "this moment error mean -->1.0367423999999992\n",
      "this moment error mean -->1.0357273599999997\n",
      "this moment error mean -->1.0391702400000065\n",
      "this moment error mean -->1.0429590399999993\n",
      "this moment error mean -->1.0419439999999995\n",
      "this moment error mean -->1.0409289599999996\n",
      "this moment error mean -->1.0399139199999996\n",
      "this moment error mean -->1.0388988799999996\n",
      "this moment error mean -->1.0378838399999994\n",
      "this moment error mean -->1.0368687999999993\n",
      "this moment error mean -->1.0358537599999995\n",
      "this moment error mean -->1.0348387199999995\n",
      "this moment error mean -->1.0338236799999994\n",
      "this moment error mean -->1.0328086399999994\n",
      "this moment error mean -->1.0317935999999996\n",
      "this moment error mean -->1.0376219200000079\n",
      "this moment error mean -->1.0390252799999993\n",
      "this moment error mean -->1.0380102399999993\n",
      "this moment error mean -->1.0369951999999993\n",
      "this moment error mean -->1.0359801599999992\n",
      "this moment error mean -->1.0349651199999994\n",
      "this moment error mean -->1.0339500799999992\n",
      "this moment error mean -->1.0329350399999992\n",
      "this moment error mean -->1.031919999999999\n",
      "this moment error mean -->1.030904959999999\n",
      "this moment error mean -->1.0298899199999993\n",
      "this moment error mean -->1.0288748799999994\n",
      "this moment error mean -->1.0278598399999996\n",
      "this moment error mean -->1.0360736000000093\n",
      "this moment error mean -->1.0350915199999995\n",
      "this moment error mean -->1.0340764799999993\n",
      "this moment error mean -->1.0330614399999993\n",
      "this moment error mean -->1.0320463999999991\n",
      "this moment error mean -->1.0310313599999992\n",
      "this moment error mean -->1.0300163199999992\n",
      "this moment error mean -->1.0290012799999992\n",
      "this moment error mean -->1.027986239999999\n",
      "this moment error mean -->1.026971199999999\n",
      "this moment error mean -->1.0259561599999991\n",
      "this moment error mean -->1.0249411199999992\n",
      "this moment error mean -->1.0262785600000104\n",
      "this moment error mean -->1.0321727999999992\n"
     ]
    }
   ],
   "source": [
    "\n",
    "\n",
    "\n",
    "weights,bias=1,1\n",
    "df['y_predict']=df['x']*weights+bias\n",
    "\n",
    "learning_rate=0.01\n",
    "epochs=range(100)\n",
    "\n",
    "for epoch in epochs:\n",
    "    df['weights_update']=df['x']*np.sign(df['y']-df['y_predict'])\n",
    "    df['bias_update']=np.sign(df['y']-df['y_predict'])    \n",
    "    \n",
    "    weights=weights+df['weights_update'].mean()*learning_rate\n",
    "    bias=bias+df['bias_update'].mean()*learning_rate\n",
    "    \n",
    "    df['y_predict']=df['x']*weights+bias\n",
    "    df['error_in_modul']=np.abs(df['y']-df['y_predict'])\n",
    "    print(f\"this moment error mean -->{df['error_in_modul'].mean()}\")\n",
    "    "
   ]
  },
  {
   "cell_type": "code",
   "execution_count": 24,
   "metadata": {},
   "outputs": [
    {
     "data": {
      "text/plain": [
       "[<matplotlib.lines.Line2D at 0x7f11ca3f2510>]"
      ]
     },
     "execution_count": 24,
     "metadata": {},
     "output_type": "execute_result"
    },
    {
     "data": {
      "image/png": "[encoded data removed]",
      "text/plain": [
       "<Figure size 432x288 with 1 Axes>"
      ]
     },
     "metadata": {
      "needs_background": "light"
     },
     "output_type": "display_data"
    }
   ],
   "source": [
    "pyplot.scatter(df['x'], df['y'])\n",
    "pyplot.plot(df['x'],df['y_predict'])"
   ]
  },
  {
   "cell_type": "code",
   "execution_count": 25,
   "metadata": {},
   "outputs": [
    {
     "data": {
      "text/plain": [
       "0    1.639760\n",
       "1    3.522104\n",
       "2    3.938448\n",
       "3    6.113992\n",
       "4    6.330960\n",
       "Name: y_predict, dtype: float64"
      ]
     },
     "execution_count": 25,
     "metadata": {},
     "output_type": "execute_result"
    }
   ],
   "source": [
    "df['y_predict']"
   ]
  },
  {
   "cell_type": "code",
   "execution_count": 26,
   "metadata": {},
   "outputs": [
    {
     "data": {
      "text/plain": [
       "0    1.91\n",
       "1    1.84\n",
       "2    4.47\n",
       "3    6.38\n",
       "4    3.92\n",
       "Name: y, dtype: float64"
      ]
     },
     "execution_count": 26,
     "metadata": {},
     "output_type": "execute_result"
    }
   ],
   "source": [
    "df['y']"
   ]
  },
  {
   "cell_type": "code",
   "execution_count": null,
   "metadata": {},
   "outputs": [],
   "source": []
  },
  {
   "cell_type": "code",
   "execution_count": null,
   "metadata": {},
   "outputs": [],
   "source": []
  },
  {
   "cell_type": "code",
   "execution_count": 27,
   "metadata": {},
   "outputs": [
    {
     "data": {
      "text/plain": [
       "0    1.91\n",
       "1    1.84\n",
       "2    4.47\n",
       "3    6.38\n",
       "4    3.92\n",
       "Name: y, dtype: float64"
      ]
     },
     "execution_count": 27,
     "metadata": {},
     "output_type": "execute_result"
    }
   ],
   "source": [
    "df['y']"
   ]
  },
  {
   "cell_type": "code",
   "execution_count": null,
   "metadata": {},
   "outputs": [],
   "source": []
  },
  {
   "cell_type": "code",
   "execution_count": null,
   "metadata": {},
   "outputs": [],
   "source": []
  },
  {
   "cell_type": "code",
   "execution_count": 28,
   "metadata": {},
   "outputs": [
    {
     "data": {
      "text/plain": [
       "LinearRegression(copy_X=True, fit_intercept=True, n_jobs=None, normalize=False)"
      ]
     },
     "execution_count": 28,
     "metadata": {},
     "output_type": "execute_result"
    }
   ],
   "source": [
    "linear_regression=LinearRegression()\n",
    "linear_regression.fit(DataFrame(df['x']), df['y'])"
   ]
  },
  {
   "cell_type": "code",
   "execution_count": 29,
   "metadata": {},
   "outputs": [
    {
     "data": {
      "text/plain": [
       "array([0.4327796])"
      ]
     },
     "execution_count": 29,
     "metadata": {},
     "output_type": "execute_result"
    }
   ],
   "source": [
    "linear_regression.coef_"
   ]
  },
  {
   "cell_type": "code",
   "execution_count": 30,
   "metadata": {},
   "outputs": [
    {
     "data": {
      "text/plain": [
       "1.3444856051457097"
      ]
     },
     "execution_count": 30,
     "metadata": {},
     "output_type": "execute_result"
    }
   ],
   "source": [
    "linear_regression.intercept_"
   ]
  },
  {
   "cell_type": "code",
   "execution_count": null,
   "metadata": {},
   "outputs": [],
   "source": []
  },
  {
   "cell_type": "code",
   "execution_count": 31,
   "metadata": {},
   "outputs": [],
   "source": [
    "df['l_r_predict']=linear_regression.predict(DataFrame(df['x']))"
   ]
  },
  {
   "cell_type": "code",
   "execution_count": 32,
   "metadata": {},
   "outputs": [
    {
     "data": {
      "text/html": [
       "<div>\n",
       "<style scoped>\n",
       "    .dataframe tbody tr th:only-of-type {\n",
       "        vertical-align: middle;\n",
       "    }\n",
       "\n",
       "    .dataframe tbody tr th {\n",
       "        vertical-align: top;\n",
       "    }\n",
       "\n",
       "    .dataframe thead th {\n",
       "        text-align: right;\n",
       "    }\n",
       "</style>\n",
       "<table border=\"1\" class=\"dataframe\">\n",
       "  <thead>\n",
       "    <tr style=\"text-align: right;\">\n",
       "      <th></th>\n",
       "      <th>x</th>\n",
       "      <th>y</th>\n",
       "      <th>y_predict</th>\n",
       "      <th>weights_update</th>\n",
       "      <th>bias_update</th>\n",
       "      <th>error_in_modul</th>\n",
       "      <th>l_r_predict</th>\n",
       "    </tr>\n",
       "  </thead>\n",
       "  <tbody>\n",
       "    <tr>\n",
       "      <th>0</th>\n",
       "      <td>0.90</td>\n",
       "      <td>1.91</td>\n",
       "      <td>1.639760</td>\n",
       "      <td>0.90</td>\n",
       "      <td>1.0</td>\n",
       "      <td>0.270240</td>\n",
       "      <td>1.733987</td>\n",
       "    </tr>\n",
       "    <tr>\n",
       "      <th>1</th>\n",
       "      <td>4.11</td>\n",
       "      <td>1.84</td>\n",
       "      <td>3.522104</td>\n",
       "      <td>-4.11</td>\n",
       "      <td>-1.0</td>\n",
       "      <td>1.682104</td>\n",
       "      <td>3.123210</td>\n",
       "    </tr>\n",
       "    <tr>\n",
       "      <th>2</th>\n",
       "      <td>4.82</td>\n",
       "      <td>4.47</td>\n",
       "      <td>3.938448</td>\n",
       "      <td>4.82</td>\n",
       "      <td>1.0</td>\n",
       "      <td>0.531552</td>\n",
       "      <td>3.430483</td>\n",
       "    </tr>\n",
       "    <tr>\n",
       "      <th>3</th>\n",
       "      <td>8.53</td>\n",
       "      <td>6.38</td>\n",
       "      <td>6.113992</td>\n",
       "      <td>-8.53</td>\n",
       "      <td>-1.0</td>\n",
       "      <td>0.266008</td>\n",
       "      <td>5.036096</td>\n",
       "    </tr>\n",
       "    <tr>\n",
       "      <th>4</th>\n",
       "      <td>8.90</td>\n",
       "      <td>3.92</td>\n",
       "      <td>6.330960</td>\n",
       "      <td>-8.90</td>\n",
       "      <td>-1.0</td>\n",
       "      <td>2.410960</td>\n",
       "      <td>5.196224</td>\n",
       "    </tr>\n",
       "  </tbody>\n",
       "</table>\n",
       "</div>"
      ],
      "text/plain": [
       "      x     y  y_predict  weights_update  bias_update  error_in_modul  \\\n",
       "0  0.90  1.91   1.639760            0.90          1.0        0.270240   \n",
       "1  4.11  1.84   3.522104           -4.11         -1.0        1.682104   \n",
       "2  4.82  4.47   3.938448            4.82          1.0        0.531552   \n",
       "3  8.53  6.38   6.113992           -8.53         -1.0        0.266008   \n",
       "4  8.90  3.92   6.330960           -8.90         -1.0        2.410960   \n",
       "\n",
       "   l_r_predict  \n",
       "0     1.733987  \n",
       "1     3.123210  \n",
       "2     3.430483  \n",
       "3     5.036096  \n",
       "4     5.196224  "
      ]
     },
     "execution_count": 32,
     "metadata": {},
     "output_type": "execute_result"
    }
   ],
   "source": [
    "df"
   ]
  },
  {
   "cell_type": "code",
   "execution_count": null,
   "metadata": {},
   "outputs": [],
   "source": []
  },
  {
   "cell_type": "code",
   "execution_count": 33,
   "metadata": {},
   "outputs": [],
   "source": [
    "sgd=SGDRegressor()\n"
   ]
  },
  {
   "cell_type": "code",
   "execution_count": 34,
   "metadata": {},
   "outputs": [
    {
     "data": {
      "text/plain": [
       "SGDRegressor(alpha=0.0001, average=False, early_stopping=False, epsilon=0.1,\n",
       "             eta0=0.01, fit_intercept=True, l1_ratio=0.15,\n",
       "             learning_rate='invscaling', loss='squared_loss', max_iter=1000,\n",
       "             n_iter_no_change=5, penalty='l2', power_t=0.25, random_state=None,\n",
       "             shuffle=True, tol=0.001, validation_fraction=0.1, verbose=0,\n",
       "             warm_start=False)"
      ]
     },
     "execution_count": 34,
     "metadata": {},
     "output_type": "execute_result"
    }
   ],
   "source": [
    "sgd.fit(DataFrame(df['x']), df['y'])"
   ]
  },
  {
   "cell_type": "code",
   "execution_count": 35,
   "metadata": {},
   "outputs": [
    {
     "data": {
      "text/plain": [
       "array([0.52712063])"
      ]
     },
     "execution_count": 35,
     "metadata": {},
     "output_type": "execute_result"
    }
   ],
   "source": [
    "sgd.coef_"
   ]
  },
  {
   "cell_type": "code",
   "execution_count": 36,
   "metadata": {},
   "outputs": [
    {
     "data": {
      "text/plain": [
       "array([0.69506709])"
      ]
     },
     "execution_count": 36,
     "metadata": {},
     "output_type": "execute_result"
    }
   ],
   "source": [
    "sgd.intercept_"
   ]
  },
  {
   "cell_type": "code",
   "execution_count": 37,
   "metadata": {},
   "outputs": [],
   "source": [
    "df['sgd_l_r_predict']=sgd.predict(DataFrame(df['x']))"
   ]
  },
  {
   "cell_type": "code",
   "execution_count": 38,
   "metadata": {},
   "outputs": [
    {
     "data": {
      "text/html": [
       "<div>\n",
       "<style scoped>\n",
       "    .dataframe tbody tr th:only-of-type {\n",
       "        vertical-align: middle;\n",
       "    }\n",
       "\n",
       "    .dataframe tbody tr th {\n",
       "        vertical-align: top;\n",
       "    }\n",
       "\n",
       "    .dataframe thead th {\n",
       "        text-align: right;\n",
       "    }\n",
       "</style>\n",
       "<table border=\"1\" class=\"dataframe\">\n",
       "  <thead>\n",
       "    <tr style=\"text-align: right;\">\n",
       "      <th></th>\n",
       "      <th>x</th>\n",
       "      <th>y</th>\n",
       "      <th>y_predict</th>\n",
       "      <th>weights_update</th>\n",
       "      <th>bias_update</th>\n",
       "      <th>error_in_modul</th>\n",
       "      <th>l_r_predict</th>\n",
       "      <th>sgd_l_r_predict</th>\n",
       "    </tr>\n",
       "  </thead>\n",
       "  <tbody>\n",
       "    <tr>\n",
       "      <th>0</th>\n",
       "      <td>0.90</td>\n",
       "      <td>1.91</td>\n",
       "      <td>1.639760</td>\n",
       "      <td>0.90</td>\n",
       "      <td>1.0</td>\n",
       "      <td>0.270240</td>\n",
       "      <td>1.733987</td>\n",
       "      <td>1.169476</td>\n",
       "    </tr>\n",
       "    <tr>\n",
       "      <th>1</th>\n",
       "      <td>4.11</td>\n",
       "      <td>1.84</td>\n",
       "      <td>3.522104</td>\n",
       "      <td>-4.11</td>\n",
       "      <td>-1.0</td>\n",
       "      <td>1.682104</td>\n",
       "      <td>3.123210</td>\n",
       "      <td>2.861533</td>\n",
       "    </tr>\n",
       "    <tr>\n",
       "      <th>2</th>\n",
       "      <td>4.82</td>\n",
       "      <td>4.47</td>\n",
       "      <td>3.938448</td>\n",
       "      <td>4.82</td>\n",
       "      <td>1.0</td>\n",
       "      <td>0.531552</td>\n",
       "      <td>3.430483</td>\n",
       "      <td>3.235789</td>\n",
       "    </tr>\n",
       "    <tr>\n",
       "      <th>3</th>\n",
       "      <td>8.53</td>\n",
       "      <td>6.38</td>\n",
       "      <td>6.113992</td>\n",
       "      <td>-8.53</td>\n",
       "      <td>-1.0</td>\n",
       "      <td>0.266008</td>\n",
       "      <td>5.036096</td>\n",
       "      <td>5.191406</td>\n",
       "    </tr>\n",
       "    <tr>\n",
       "      <th>4</th>\n",
       "      <td>8.90</td>\n",
       "      <td>3.92</td>\n",
       "      <td>6.330960</td>\n",
       "      <td>-8.90</td>\n",
       "      <td>-1.0</td>\n",
       "      <td>2.410960</td>\n",
       "      <td>5.196224</td>\n",
       "      <td>5.386441</td>\n",
       "    </tr>\n",
       "  </tbody>\n",
       "</table>\n",
       "</div>"
      ],
      "text/plain": [
       "      x     y  y_predict  weights_update  bias_update  error_in_modul  \\\n",
       "0  0.90  1.91   1.639760            0.90          1.0        0.270240   \n",
       "1  4.11  1.84   3.522104           -4.11         -1.0        1.682104   \n",
       "2  4.82  4.47   3.938448            4.82          1.0        0.531552   \n",
       "3  8.53  6.38   6.113992           -8.53         -1.0        0.266008   \n",
       "4  8.90  3.92   6.330960           -8.90         -1.0        2.410960   \n",
       "\n",
       "   l_r_predict  sgd_l_r_predict  \n",
       "0     1.733987         1.169476  \n",
       "1     3.123210         2.861533  \n",
       "2     3.430483         3.235789  \n",
       "3     5.036096         5.191406  \n",
       "4     5.196224         5.386441  "
      ]
     },
     "execution_count": 38,
     "metadata": {},
     "output_type": "execute_result"
    }
   ],
   "source": [
    "df"
   ]
  },
  {
   "cell_type": "code",
   "execution_count": null,
   "metadata": {},
   "outputs": [],
   "source": []
  },
  {
   "cell_type": "code",
   "execution_count": null,
   "metadata": {},
   "outputs": [],
   "source": []
  },
  {
   "cell_type": "code",
   "execution_count": 39,
   "metadata": {},
   "outputs": [
    {
     "data": {
      "text/plain": [
       "[<matplotlib.lines.Line2D at 0x7f11ca3e1f10>]"
      ]
     },
     "execution_count": 39,
     "metadata": {},
     "output_type": "execute_result"
    },
    {
     "data": {
      "image/png": "[encoded data removed]",
      "text/plain": [
       "<Figure size 432x288 with 1 Axes>"
      ]
     },
     "metadata": {
      "needs_background": "light"
     },
     "output_type": "display_data"
    }
   ],
   "source": [
    "pyplot.scatter(df['x'], df['y'])\n",
    "pyplot.plot(df['x'],df['sgd_l_r_predict'])"
   ]
  },
  {
   "cell_type": "code",
   "execution_count": 40,
   "metadata": {},
   "outputs": [
    {
     "data": {
      "text/plain": [
       "[<matplotlib.lines.Line2D at 0x7f11c5fe1550>]"
      ]
     },
     "execution_count": 40,
     "metadata": {},
     "output_type": "execute_result"
    },
    {
     "data": {
      "image/png": "[encoded data removed]",
      "text/plain": [
       "<Figure size 432x288 with 1 Axes>"
      ]
     },
     "metadata": {
      "needs_background": "light"
     },
     "output_type": "display_data"
    }
   ],
   "source": [
    "pyplot.scatter(df['x'], df['y'])\n",
    "pyplot.plot(df['x'],df['l_r_predict'])"
   ]
  },
  {
   "cell_type": "code",
   "execution_count": null,
   "metadata": {},
   "outputs": [],
   "source": []
  },
  {
   "cell_type": "code",
   "execution_count": null,
   "metadata": {},
   "outputs": [],
   "source": []
  },
  {
   "cell_type": "code",
   "execution_count": null,
   "metadata": {},
   "outputs": [],
   "source": []
  },
  {
   "cell_type": "code",
   "execution_count": null,
   "metadata": {},
   "outputs": [],
   "source": []
  },
  {
   "cell_type": "code",
   "execution_count": 41,
   "metadata": {},
   "outputs": [],
   "source": [
    "y=Symbol('y', real=True)\n",
    "x=Symbol('x', real=True)\n",
    "weights=Symbol('weights', real=True)\n",
    "bias=Symbol('bias', real=True)\n"
   ]
  },
  {
   "cell_type": "code",
   "execution_count": 42,
   "metadata": {},
   "outputs": [
    {
     "data": {
      "text/latex": [
       "$\\displaystyle \\left|{bias + weights x - y}\\right|$"
      ],
      "text/plain": [
       "Abs(bias + weights*x - y)"
      ]
     },
     "execution_count": 42,
     "metadata": {},
     "output_type": "execute_result"
    }
   ],
   "source": [
    "Abs(y-x*weights-bias)"
   ]
  },
  {
   "cell_type": "code",
   "execution_count": 43,
   "metadata": {},
   "outputs": [
    {
     "data": {
      "text/latex": [
       "$\\displaystyle \\operatorname{sign}{\\left(bias + weights x - y \\right)}$"
      ],
      "text/plain": [
       "sign(bias + weights*x - y)"
      ]
     },
     "execution_count": 43,
     "metadata": {},
     "output_type": "execute_result"
    }
   ],
   "source": [
    "diff(Abs(y-x*weights-bias), bias)"
   ]
  },
  {
   "cell_type": "code",
   "execution_count": null,
   "metadata": {},
   "outputs": [],
   "source": []
  },
  {
   "cell_type": "code",
   "execution_count": 44,
   "metadata": {},
   "outputs": [
    {
     "data": {
      "text/latex": [
       "$\\displaystyle 2 bias + 2 weights x - 2 y$"
      ],
      "text/plain": [
       "2*bias + 2*weights*x - 2*y"
      ]
     },
     "execution_count": 44,
     "metadata": {},
     "output_type": "execute_result"
    }
   ],
   "source": [
    "diff((y-x*weights-bias)**2, bias)"
   ]
  },
  {
   "cell_type": "code",
   "execution_count": null,
   "metadata": {},
   "outputs": [],
   "source": []
  },
  {
   "cell_type": "code",
   "execution_count": null,
   "metadata": {},
   "outputs": [],
   "source": []
  },
  {
   "cell_type": "code",
   "execution_count": null,
   "metadata": {},
   "outputs": [],
   "source": []
  },
  {
   "cell_type": "code",
   "execution_count": null,
   "metadata": {},
   "outputs": [],
   "source": []
  }
 ],
 "metadata": {
  "kernelspec": {
   "display_name": "Python 3",
   "language": "python",
   "name": "python3"
  },
  "language_info": {
   "codemirror_mode": {
    "name": "ipython",
    "version": 3
   },
   "file_extension": ".py",
   "mimetype": "text/x-python",
   "name": "python",
   "nbconvert_exporter": "python",
   "pygments_lexer": "ipython3",
   "version": "3.7.6"
  }
 },
 "nbformat": 4,
 "nbformat_minor": 4
}
